{
  "nbformat": 4,
  "nbformat_minor": 0,
  "metadata": {
    "colab": {
      "provenance": [],
      "collapsed_sections": []
    },
    "kernelspec": {
      "name": "python3",
      "display_name": "Python 3"
    },
    "language_info": {
      "name": "python"
    }
  },
  "cells": [
    {
      "cell_type": "markdown",
      "source": [
        "Download dataset from here: \n",
        "To open this link <a href='https://drive.google.com/file/d/1YgHuxCkSeF-5HygMt12c86upklqbU3he/view?usp=sharing' title='Google Drive'> Click here"
      ],
      "metadata": {
        "id": "fckhImIE2LKC"
      }
    },
    {
      "cell_type": "code",
      "execution_count": null,
      "metadata": {
        "colab": {
          "base_uri": "https://localhost:8080/",
          "height": 889
        },
        "id": "0HWb46nu6zu7",
        "outputId": "89ec64e8-89d2-41bb-c5a0-6d25eb7e0c3a"
      },
      "outputs": [
        {
          "output_type": "execute_result",
          "data": {
            "text/plain": [
              "   Restaurant ID         Restaurant Name  Country Code              City  \\\n",
              "0        6317637        Le Petit Souffle           162       Makati City   \n",
              "1        6304287        Izakaya Kikufuji           162       Makati City   \n",
              "2        6300002  Heat - Edsa Shangri-La           162  Mandaluyong City   \n",
              "3        6318506                    Ooma           162  Mandaluyong City   \n",
              "4        6314302             Sambo Kojin           162  Mandaluyong City   \n",
              "\n",
              "                                                                   Address  \\\n",
              "0  Third Floor, Century City Mall, Kalayaan Avenue, Poblacion, Makati City   \n",
              "1      Little Tokyo, 2277 Chino Roces Avenue, Legaspi Village, Makati City   \n",
              "2                 Edsa Shangri-La, 1 Garden Way, Ortigas, Mandaluyong City   \n",
              "3   Third Floor, Mega Fashion Hall, SM Megamall, Ortigas, Mandaluyong City   \n",
              "4         Third Floor, Mega Atrium, SM Megamall, Ortigas, Mandaluyong City   \n",
              "\n",
              "                                     Locality  \\\n",
              "0   Century City Mall, Poblacion, Makati City   \n",
              "1  Little Tokyo, Legaspi Village, Makati City   \n",
              "2  Edsa Shangri-La, Ortigas, Mandaluyong City   \n",
              "3      SM Megamall, Ortigas, Mandaluyong City   \n",
              "4      SM Megamall, Ortigas, Mandaluyong City   \n",
              "\n",
              "                                               Locality Verbose  Longitude  \\\n",
              "0        Century City Mall, Poblacion, Makati City, Makati City 121.027535   \n",
              "1       Little Tokyo, Legaspi Village, Makati City, Makati City 121.014101   \n",
              "2  Edsa Shangri-La, Ortigas, Mandaluyong City, Mandaluyong City 121.056831   \n",
              "3      SM Megamall, Ortigas, Mandaluyong City, Mandaluyong City 121.056475   \n",
              "4      SM Megamall, Ortigas, Mandaluyong City, Mandaluyong City 121.057508   \n",
              "\n",
              "   Latitude                          Cuisines  ...          Currency  \\\n",
              "0 14.565443        French, Japanese, Desserts  ...  Botswana Pula(P)   \n",
              "1 14.553708                          Japanese  ...  Botswana Pula(P)   \n",
              "2 14.581404  Seafood, Asian, Filipino, Indian  ...  Botswana Pula(P)   \n",
              "3 14.585318                   Japanese, Sushi  ...  Botswana Pula(P)   \n",
              "4 14.584450                  Japanese, Korean  ...  Botswana Pula(P)   \n",
              "\n",
              "  Has Table booking Has Online delivery Is delivering now  \\\n",
              "0               Yes                  No                No   \n",
              "1               Yes                  No                No   \n",
              "2               Yes                  No                No   \n",
              "3                No                  No                No   \n",
              "4               Yes                  No                No   \n",
              "\n",
              "  Switch to order menu Price range  Aggregate rating  Rating color  \\\n",
              "0                   No           3          4.800000    Dark Green   \n",
              "1                   No           3          4.500000    Dark Green   \n",
              "2                   No           4          4.400000         Green   \n",
              "3                   No           4          4.900000    Dark Green   \n",
              "4                   No           4          4.800000    Dark Green   \n",
              "\n",
              "  Rating text Votes  \n",
              "0   Excellent   314  \n",
              "1   Excellent   591  \n",
              "2   Very Good   270  \n",
              "3   Excellent   365  \n",
              "4   Excellent   229  \n",
              "\n",
              "[5 rows x 21 columns]"
            ],
            "text/html": [
              "\n",
              "  <div id=\"df-2fe0f6f4-7cb4-45b8-9a1d-03aabdc6aef8\">\n",
              "    <div class=\"colab-df-container\">\n",
              "      <div>\n",
              "<style scoped>\n",
              "    .dataframe tbody tr th:only-of-type {\n",
              "        vertical-align: middle;\n",
              "    }\n",
              "\n",
              "    .dataframe tbody tr th {\n",
              "        vertical-align: top;\n",
              "    }\n",
              "\n",
              "    .dataframe thead th {\n",
              "        text-align: right;\n",
              "    }\n",
              "</style>\n",
              "<table border=\"1\" class=\"dataframe\">\n",
              "  <thead>\n",
              "    <tr style=\"text-align: right;\">\n",
              "      <th></th>\n",
              "      <th>Restaurant ID</th>\n",
              "      <th>Restaurant Name</th>\n",
              "      <th>Country Code</th>\n",
              "      <th>City</th>\n",
              "      <th>Address</th>\n",
              "      <th>Locality</th>\n",
              "      <th>Locality Verbose</th>\n",
              "      <th>Longitude</th>\n",
              "      <th>Latitude</th>\n",
              "      <th>Cuisines</th>\n",
              "      <th>...</th>\n",
              "      <th>Currency</th>\n",
              "      <th>Has Table booking</th>\n",
              "      <th>Has Online delivery</th>\n",
              "      <th>Is delivering now</th>\n",
              "      <th>Switch to order menu</th>\n",
              "      <th>Price range</th>\n",
              "      <th>Aggregate rating</th>\n",
              "      <th>Rating color</th>\n",
              "      <th>Rating text</th>\n",
              "      <th>Votes</th>\n",
              "    </tr>\n",
              "  </thead>\n",
              "  <tbody>\n",
              "    <tr>\n",
              "      <th>0</th>\n",
              "      <td>6317637</td>\n",
              "      <td>Le Petit Souffle</td>\n",
              "      <td>162</td>\n",
              "      <td>Makati City</td>\n",
              "      <td>Third Floor, Century City Mall, Kalayaan Avenue, Poblacion, Makati City</td>\n",
              "      <td>Century City Mall, Poblacion, Makati City</td>\n",
              "      <td>Century City Mall, Poblacion, Makati City, Makati City</td>\n",
              "      <td>121.027535</td>\n",
              "      <td>14.565443</td>\n",
              "      <td>French, Japanese, Desserts</td>\n",
              "      <td>...</td>\n",
              "      <td>Botswana Pula(P)</td>\n",
              "      <td>Yes</td>\n",
              "      <td>No</td>\n",
              "      <td>No</td>\n",
              "      <td>No</td>\n",
              "      <td>3</td>\n",
              "      <td>4.800000</td>\n",
              "      <td>Dark Green</td>\n",
              "      <td>Excellent</td>\n",
              "      <td>314</td>\n",
              "    </tr>\n",
              "    <tr>\n",
              "      <th>1</th>\n",
              "      <td>6304287</td>\n",
              "      <td>Izakaya Kikufuji</td>\n",
              "      <td>162</td>\n",
              "      <td>Makati City</td>\n",
              "      <td>Little Tokyo, 2277 Chino Roces Avenue, Legaspi Village, Makati City</td>\n",
              "      <td>Little Tokyo, Legaspi Village, Makati City</td>\n",
              "      <td>Little Tokyo, Legaspi Village, Makati City, Makati City</td>\n",
              "      <td>121.014101</td>\n",
              "      <td>14.553708</td>\n",
              "      <td>Japanese</td>\n",
              "      <td>...</td>\n",
              "      <td>Botswana Pula(P)</td>\n",
              "      <td>Yes</td>\n",
              "      <td>No</td>\n",
              "      <td>No</td>\n",
              "      <td>No</td>\n",
              "      <td>3</td>\n",
              "      <td>4.500000</td>\n",
              "      <td>Dark Green</td>\n",
              "      <td>Excellent</td>\n",
              "      <td>591</td>\n",
              "    </tr>\n",
              "    <tr>\n",
              "      <th>2</th>\n",
              "      <td>6300002</td>\n",
              "      <td>Heat - Edsa Shangri-La</td>\n",
              "      <td>162</td>\n",
              "      <td>Mandaluyong City</td>\n",
              "      <td>Edsa Shangri-La, 1 Garden Way, Ortigas, Mandaluyong City</td>\n",
              "      <td>Edsa Shangri-La, Ortigas, Mandaluyong City</td>\n",
              "      <td>Edsa Shangri-La, Ortigas, Mandaluyong City, Mandaluyong City</td>\n",
              "      <td>121.056831</td>\n",
              "      <td>14.581404</td>\n",
              "      <td>Seafood, Asian, Filipino, Indian</td>\n",
              "      <td>...</td>\n",
              "      <td>Botswana Pula(P)</td>\n",
              "      <td>Yes</td>\n",
              "      <td>No</td>\n",
              "      <td>No</td>\n",
              "      <td>No</td>\n",
              "      <td>4</td>\n",
              "      <td>4.400000</td>\n",
              "      <td>Green</td>\n",
              "      <td>Very Good</td>\n",
              "      <td>270</td>\n",
              "    </tr>\n",
              "    <tr>\n",
              "      <th>3</th>\n",
              "      <td>6318506</td>\n",
              "      <td>Ooma</td>\n",
              "      <td>162</td>\n",
              "      <td>Mandaluyong City</td>\n",
              "      <td>Third Floor, Mega Fashion Hall, SM Megamall, Ortigas, Mandaluyong City</td>\n",
              "      <td>SM Megamall, Ortigas, Mandaluyong City</td>\n",
              "      <td>SM Megamall, Ortigas, Mandaluyong City, Mandaluyong City</td>\n",
              "      <td>121.056475</td>\n",
              "      <td>14.585318</td>\n",
              "      <td>Japanese, Sushi</td>\n",
              "      <td>...</td>\n",
              "      <td>Botswana Pula(P)</td>\n",
              "      <td>No</td>\n",
              "      <td>No</td>\n",
              "      <td>No</td>\n",
              "      <td>No</td>\n",
              "      <td>4</td>\n",
              "      <td>4.900000</td>\n",
              "      <td>Dark Green</td>\n",
              "      <td>Excellent</td>\n",
              "      <td>365</td>\n",
              "    </tr>\n",
              "    <tr>\n",
              "      <th>4</th>\n",
              "      <td>6314302</td>\n",
              "      <td>Sambo Kojin</td>\n",
              "      <td>162</td>\n",
              "      <td>Mandaluyong City</td>\n",
              "      <td>Third Floor, Mega Atrium, SM Megamall, Ortigas, Mandaluyong City</td>\n",
              "      <td>SM Megamall, Ortigas, Mandaluyong City</td>\n",
              "      <td>SM Megamall, Ortigas, Mandaluyong City, Mandaluyong City</td>\n",
              "      <td>121.057508</td>\n",
              "      <td>14.584450</td>\n",
              "      <td>Japanese, Korean</td>\n",
              "      <td>...</td>\n",
              "      <td>Botswana Pula(P)</td>\n",
              "      <td>Yes</td>\n",
              "      <td>No</td>\n",
              "      <td>No</td>\n",
              "      <td>No</td>\n",
              "      <td>4</td>\n",
              "      <td>4.800000</td>\n",
              "      <td>Dark Green</td>\n",
              "      <td>Excellent</td>\n",
              "      <td>229</td>\n",
              "    </tr>\n",
              "  </tbody>\n",
              "</table>\n",
              "<p>5 rows × 21 columns</p>\n",
              "</div>\n",
              "      <button class=\"colab-df-convert\" onclick=\"convertToInteractive('df-2fe0f6f4-7cb4-45b8-9a1d-03aabdc6aef8')\"\n",
              "              title=\"Convert this dataframe to an interactive table.\"\n",
              "              style=\"display:none;\">\n",
              "        \n",
              "  <svg xmlns=\"http://www.w3.org/2000/svg\" height=\"24px\"viewBox=\"0 0 24 24\"\n",
              "       width=\"24px\">\n",
              "    <path d=\"M0 0h24v24H0V0z\" fill=\"none\"/>\n",
              "    <path d=\"M18.56 5.44l.94 2.06.94-2.06 2.06-.94-2.06-.94-.94-2.06-.94 2.06-2.06.94zm-11 1L8.5 8.5l.94-2.06 2.06-.94-2.06-.94L8.5 2.5l-.94 2.06-2.06.94zm10 10l.94 2.06.94-2.06 2.06-.94-2.06-.94-.94-2.06-.94 2.06-2.06.94z\"/><path d=\"M17.41 7.96l-1.37-1.37c-.4-.4-.92-.59-1.43-.59-.52 0-1.04.2-1.43.59L10.3 9.45l-7.72 7.72c-.78.78-.78 2.05 0 2.83L4 21.41c.39.39.9.59 1.41.59.51 0 1.02-.2 1.41-.59l7.78-7.78 2.81-2.81c.8-.78.8-2.07 0-2.86zM5.41 20L4 18.59l7.72-7.72 1.47 1.35L5.41 20z\"/>\n",
              "  </svg>\n",
              "      </button>\n",
              "      \n",
              "  <style>\n",
              "    .colab-df-container {\n",
              "      display:flex;\n",
              "      flex-wrap:wrap;\n",
              "      gap: 12px;\n",
              "    }\n",
              "\n",
              "    .colab-df-convert {\n",
              "      background-color: #E8F0FE;\n",
              "      border: none;\n",
              "      border-radius: 50%;\n",
              "      cursor: pointer;\n",
              "      display: none;\n",
              "      fill: #1967D2;\n",
              "      height: 32px;\n",
              "      padding: 0 0 0 0;\n",
              "      width: 32px;\n",
              "    }\n",
              "\n",
              "    .colab-df-convert:hover {\n",
              "      background-color: #E2EBFA;\n",
              "      box-shadow: 0px 1px 2px rgba(60, 64, 67, 0.3), 0px 1px 3px 1px rgba(60, 64, 67, 0.15);\n",
              "      fill: #174EA6;\n",
              "    }\n",
              "\n",
              "    [theme=dark] .colab-df-convert {\n",
              "      background-color: #3B4455;\n",
              "      fill: #D2E3FC;\n",
              "    }\n",
              "\n",
              "    [theme=dark] .colab-df-convert:hover {\n",
              "      background-color: #434B5C;\n",
              "      box-shadow: 0px 1px 3px 1px rgba(0, 0, 0, 0.15);\n",
              "      filter: drop-shadow(0px 1px 2px rgba(0, 0, 0, 0.3));\n",
              "      fill: #FFFFFF;\n",
              "    }\n",
              "  </style>\n",
              "\n",
              "      <script>\n",
              "        const buttonEl =\n",
              "          document.querySelector('#df-2fe0f6f4-7cb4-45b8-9a1d-03aabdc6aef8 button.colab-df-convert');\n",
              "        buttonEl.style.display =\n",
              "          google.colab.kernel.accessAllowed ? 'block' : 'none';\n",
              "\n",
              "        async function convertToInteractive(key) {\n",
              "          const element = document.querySelector('#df-2fe0f6f4-7cb4-45b8-9a1d-03aabdc6aef8');\n",
              "          const dataTable =\n",
              "            await google.colab.kernel.invokeFunction('convertToInteractive',\n",
              "                                                     [key], {});\n",
              "          if (!dataTable) return;\n",
              "\n",
              "          const docLinkHtml = 'Like what you see? Visit the ' +\n",
              "            '<a target=\"_blank\" href=https://colab.research.google.com/notebooks/data_table.ipynb>data table notebook</a>'\n",
              "            + ' to learn more about interactive tables.';\n",
              "          element.innerHTML = '';\n",
              "          dataTable['output_type'] = 'display_data';\n",
              "          await google.colab.output.renderOutput(dataTable, element);\n",
              "          const docLink = document.createElement('div');\n",
              "          docLink.innerHTML = docLinkHtml;\n",
              "          element.appendChild(docLink);\n",
              "        }\n",
              "      </script>\n",
              "    </div>\n",
              "  </div>\n",
              "  "
            ]
          },
          "metadata": {},
          "execution_count": 347
        }
      ],
      "source": [
        "import pandas as pd\n",
        "import numpy as np\n",
        "import matplotlib.pyplot as plt\n",
        "import seaborn as sns\n",
        "%matplotlib inline\n",
        "\n",
        "import warnings\n",
        "warnings.filterwarnings('ignore')\n",
        "\n",
        "pd.set_option('float_format', '{:f}'.format)\n",
        "df = pd.read_csv('zomato.csv',encoding='latin-1')\n",
        "df.head()"
      ]
    },
    {
      "cell_type": "code",
      "source": [
        "df.shape"
      ],
      "metadata": {
        "colab": {
          "base_uri": "https://localhost:8080/"
        },
        "id": "suuRn0MF8kBO",
        "outputId": "c37997cf-a4e5-4827-9317-e15759081c55"
      },
      "execution_count": null,
      "outputs": [
        {
          "output_type": "execute_result",
          "data": {
            "text/plain": [
              "(9551, 21)"
            ]
          },
          "metadata": {},
          "execution_count": 348
        }
      ]
    },
    {
      "cell_type": "code",
      "source": [
        "df.columns"
      ],
      "metadata": {
        "colab": {
          "base_uri": "https://localhost:8080/"
        },
        "id": "26JnJ9Kh8qXo",
        "outputId": "7cb18e24-4b5c-4d5b-ff08-c1e149957663"
      },
      "execution_count": null,
      "outputs": [
        {
          "output_type": "execute_result",
          "data": {
            "text/plain": [
              "Index(['Restaurant ID', 'Restaurant Name', 'Country Code', 'City', 'Address',\n",
              "       'Locality', 'Locality Verbose', 'Longitude', 'Latitude', 'Cuisines',\n",
              "       'Average Cost for two', 'Currency', 'Has Table booking',\n",
              "       'Has Online delivery', 'Is delivering now', 'Switch to order menu',\n",
              "       'Price range', 'Aggregate rating', 'Rating color', 'Rating text',\n",
              "       'Votes'],\n",
              "      dtype='object')"
            ]
          },
          "metadata": {},
          "execution_count": 349
        }
      ]
    },
    {
      "cell_type": "code",
      "source": [
        "df.info()"
      ],
      "metadata": {
        "colab": {
          "base_uri": "https://localhost:8080/"
        },
        "id": "XXd8-deg8rDi",
        "outputId": "6736db4d-0f74-4828-cb0b-77e2eeccd62c"
      },
      "execution_count": null,
      "outputs": [
        {
          "output_type": "stream",
          "name": "stdout",
          "text": [
            "<class 'pandas.core.frame.DataFrame'>\n",
            "RangeIndex: 9551 entries, 0 to 9550\n",
            "Data columns (total 21 columns):\n",
            " #   Column                Non-Null Count  Dtype  \n",
            "---  ------                --------------  -----  \n",
            " 0   Restaurant ID         9551 non-null   int64  \n",
            " 1   Restaurant Name       9551 non-null   object \n",
            " 2   Country Code          9551 non-null   int64  \n",
            " 3   City                  9551 non-null   object \n",
            " 4   Address               9551 non-null   object \n",
            " 5   Locality              9551 non-null   object \n",
            " 6   Locality Verbose      9551 non-null   object \n",
            " 7   Longitude             9551 non-null   float64\n",
            " 8   Latitude              9551 non-null   float64\n",
            " 9   Cuisines              9542 non-null   object \n",
            " 10  Average Cost for two  9551 non-null   int64  \n",
            " 11  Currency              9551 non-null   object \n",
            " 12  Has Table booking     9551 non-null   object \n",
            " 13  Has Online delivery   9551 non-null   object \n",
            " 14  Is delivering now     9551 non-null   object \n",
            " 15  Switch to order menu  9551 non-null   object \n",
            " 16  Price range           9551 non-null   int64  \n",
            " 17  Aggregate rating      9551 non-null   float64\n",
            " 18  Rating color          9551 non-null   object \n",
            " 19  Rating text           9551 non-null   object \n",
            " 20  Votes                 9551 non-null   int64  \n",
            "dtypes: float64(3), int64(5), object(13)\n",
            "memory usage: 1.5+ MB\n"
          ]
        }
      ]
    },
    {
      "cell_type": "code",
      "source": [
        "df.describe()"
      ],
      "metadata": {
        "colab": {
          "base_uri": "https://localhost:8080/",
          "height": 300
        },
        "id": "b62KieK28r5J",
        "outputId": "51678cf7-b435-4e15-8d7b-856d07c3867e"
      },
      "execution_count": null,
      "outputs": [
        {
          "output_type": "execute_result",
          "data": {
            "text/plain": [
              "        Restaurant ID  Country Code   Longitude    Latitude  \\\n",
              "count     9551.000000   9551.000000 9551.000000 9551.000000   \n",
              "mean   9051128.349178     18.365616   64.126574   25.854381   \n",
              "std    8791521.282104     56.750546   41.467058   11.007935   \n",
              "min         53.000000      1.000000 -157.948486  -41.330428   \n",
              "25%     301962.500000      1.000000   77.081343   28.478713   \n",
              "50%    6004089.000000      1.000000   77.191964   28.570469   \n",
              "75%   18352291.500000      1.000000   77.282006   28.642758   \n",
              "max   18500652.000000    216.000000  174.832089   55.976980   \n",
              "\n",
              "       Average Cost for two  Price range  Aggregate rating        Votes  \n",
              "count           9551.000000  9551.000000       9551.000000  9551.000000  \n",
              "mean            1199.210763     1.804837          2.666370   156.909748  \n",
              "std            16121.183073     0.905609          1.516378   430.169145  \n",
              "min                0.000000     1.000000          0.000000     0.000000  \n",
              "25%              250.000000     1.000000          2.500000     5.000000  \n",
              "50%              400.000000     2.000000          3.200000    31.000000  \n",
              "75%              700.000000     2.000000          3.700000   131.000000  \n",
              "max           800000.000000     4.000000          4.900000 10934.000000  "
            ],
            "text/html": [
              "\n",
              "  <div id=\"df-dc7fc9d1-e64f-4cac-8872-4be0d8f7ba36\">\n",
              "    <div class=\"colab-df-container\">\n",
              "      <div>\n",
              "<style scoped>\n",
              "    .dataframe tbody tr th:only-of-type {\n",
              "        vertical-align: middle;\n",
              "    }\n",
              "\n",
              "    .dataframe tbody tr th {\n",
              "        vertical-align: top;\n",
              "    }\n",
              "\n",
              "    .dataframe thead th {\n",
              "        text-align: right;\n",
              "    }\n",
              "</style>\n",
              "<table border=\"1\" class=\"dataframe\">\n",
              "  <thead>\n",
              "    <tr style=\"text-align: right;\">\n",
              "      <th></th>\n",
              "      <th>Restaurant ID</th>\n",
              "      <th>Country Code</th>\n",
              "      <th>Longitude</th>\n",
              "      <th>Latitude</th>\n",
              "      <th>Average Cost for two</th>\n",
              "      <th>Price range</th>\n",
              "      <th>Aggregate rating</th>\n",
              "      <th>Votes</th>\n",
              "    </tr>\n",
              "  </thead>\n",
              "  <tbody>\n",
              "    <tr>\n",
              "      <th>count</th>\n",
              "      <td>9551.000000</td>\n",
              "      <td>9551.000000</td>\n",
              "      <td>9551.000000</td>\n",
              "      <td>9551.000000</td>\n",
              "      <td>9551.000000</td>\n",
              "      <td>9551.000000</td>\n",
              "      <td>9551.000000</td>\n",
              "      <td>9551.000000</td>\n",
              "    </tr>\n",
              "    <tr>\n",
              "      <th>mean</th>\n",
              "      <td>9051128.349178</td>\n",
              "      <td>18.365616</td>\n",
              "      <td>64.126574</td>\n",
              "      <td>25.854381</td>\n",
              "      <td>1199.210763</td>\n",
              "      <td>1.804837</td>\n",
              "      <td>2.666370</td>\n",
              "      <td>156.909748</td>\n",
              "    </tr>\n",
              "    <tr>\n",
              "      <th>std</th>\n",
              "      <td>8791521.282104</td>\n",
              "      <td>56.750546</td>\n",
              "      <td>41.467058</td>\n",
              "      <td>11.007935</td>\n",
              "      <td>16121.183073</td>\n",
              "      <td>0.905609</td>\n",
              "      <td>1.516378</td>\n",
              "      <td>430.169145</td>\n",
              "    </tr>\n",
              "    <tr>\n",
              "      <th>min</th>\n",
              "      <td>53.000000</td>\n",
              "      <td>1.000000</td>\n",
              "      <td>-157.948486</td>\n",
              "      <td>-41.330428</td>\n",
              "      <td>0.000000</td>\n",
              "      <td>1.000000</td>\n",
              "      <td>0.000000</td>\n",
              "      <td>0.000000</td>\n",
              "    </tr>\n",
              "    <tr>\n",
              "      <th>25%</th>\n",
              "      <td>301962.500000</td>\n",
              "      <td>1.000000</td>\n",
              "      <td>77.081343</td>\n",
              "      <td>28.478713</td>\n",
              "      <td>250.000000</td>\n",
              "      <td>1.000000</td>\n",
              "      <td>2.500000</td>\n",
              "      <td>5.000000</td>\n",
              "    </tr>\n",
              "    <tr>\n",
              "      <th>50%</th>\n",
              "      <td>6004089.000000</td>\n",
              "      <td>1.000000</td>\n",
              "      <td>77.191964</td>\n",
              "      <td>28.570469</td>\n",
              "      <td>400.000000</td>\n",
              "      <td>2.000000</td>\n",
              "      <td>3.200000</td>\n",
              "      <td>31.000000</td>\n",
              "    </tr>\n",
              "    <tr>\n",
              "      <th>75%</th>\n",
              "      <td>18352291.500000</td>\n",
              "      <td>1.000000</td>\n",
              "      <td>77.282006</td>\n",
              "      <td>28.642758</td>\n",
              "      <td>700.000000</td>\n",
              "      <td>2.000000</td>\n",
              "      <td>3.700000</td>\n",
              "      <td>131.000000</td>\n",
              "    </tr>\n",
              "    <tr>\n",
              "      <th>max</th>\n",
              "      <td>18500652.000000</td>\n",
              "      <td>216.000000</td>\n",
              "      <td>174.832089</td>\n",
              "      <td>55.976980</td>\n",
              "      <td>800000.000000</td>\n",
              "      <td>4.000000</td>\n",
              "      <td>4.900000</td>\n",
              "      <td>10934.000000</td>\n",
              "    </tr>\n",
              "  </tbody>\n",
              "</table>\n",
              "</div>\n",
              "      <button class=\"colab-df-convert\" onclick=\"convertToInteractive('df-dc7fc9d1-e64f-4cac-8872-4be0d8f7ba36')\"\n",
              "              title=\"Convert this dataframe to an interactive table.\"\n",
              "              style=\"display:none;\">\n",
              "        \n",
              "  <svg xmlns=\"http://www.w3.org/2000/svg\" height=\"24px\"viewBox=\"0 0 24 24\"\n",
              "       width=\"24px\">\n",
              "    <path d=\"M0 0h24v24H0V0z\" fill=\"none\"/>\n",
              "    <path d=\"M18.56 5.44l.94 2.06.94-2.06 2.06-.94-2.06-.94-.94-2.06-.94 2.06-2.06.94zm-11 1L8.5 8.5l.94-2.06 2.06-.94-2.06-.94L8.5 2.5l-.94 2.06-2.06.94zm10 10l.94 2.06.94-2.06 2.06-.94-2.06-.94-.94-2.06-.94 2.06-2.06.94z\"/><path d=\"M17.41 7.96l-1.37-1.37c-.4-.4-.92-.59-1.43-.59-.52 0-1.04.2-1.43.59L10.3 9.45l-7.72 7.72c-.78.78-.78 2.05 0 2.83L4 21.41c.39.39.9.59 1.41.59.51 0 1.02-.2 1.41-.59l7.78-7.78 2.81-2.81c.8-.78.8-2.07 0-2.86zM5.41 20L4 18.59l7.72-7.72 1.47 1.35L5.41 20z\"/>\n",
              "  </svg>\n",
              "      </button>\n",
              "      \n",
              "  <style>\n",
              "    .colab-df-container {\n",
              "      display:flex;\n",
              "      flex-wrap:wrap;\n",
              "      gap: 12px;\n",
              "    }\n",
              "\n",
              "    .colab-df-convert {\n",
              "      background-color: #E8F0FE;\n",
              "      border: none;\n",
              "      border-radius: 50%;\n",
              "      cursor: pointer;\n",
              "      display: none;\n",
              "      fill: #1967D2;\n",
              "      height: 32px;\n",
              "      padding: 0 0 0 0;\n",
              "      width: 32px;\n",
              "    }\n",
              "\n",
              "    .colab-df-convert:hover {\n",
              "      background-color: #E2EBFA;\n",
              "      box-shadow: 0px 1px 2px rgba(60, 64, 67, 0.3), 0px 1px 3px 1px rgba(60, 64, 67, 0.15);\n",
              "      fill: #174EA6;\n",
              "    }\n",
              "\n",
              "    [theme=dark] .colab-df-convert {\n",
              "      background-color: #3B4455;\n",
              "      fill: #D2E3FC;\n",
              "    }\n",
              "\n",
              "    [theme=dark] .colab-df-convert:hover {\n",
              "      background-color: #434B5C;\n",
              "      box-shadow: 0px 1px 3px 1px rgba(0, 0, 0, 0.15);\n",
              "      filter: drop-shadow(0px 1px 2px rgba(0, 0, 0, 0.3));\n",
              "      fill: #FFFFFF;\n",
              "    }\n",
              "  </style>\n",
              "\n",
              "      <script>\n",
              "        const buttonEl =\n",
              "          document.querySelector('#df-dc7fc9d1-e64f-4cac-8872-4be0d8f7ba36 button.colab-df-convert');\n",
              "        buttonEl.style.display =\n",
              "          google.colab.kernel.accessAllowed ? 'block' : 'none';\n",
              "\n",
              "        async function convertToInteractive(key) {\n",
              "          const element = document.querySelector('#df-dc7fc9d1-e64f-4cac-8872-4be0d8f7ba36');\n",
              "          const dataTable =\n",
              "            await google.colab.kernel.invokeFunction('convertToInteractive',\n",
              "                                                     [key], {});\n",
              "          if (!dataTable) return;\n",
              "\n",
              "          const docLinkHtml = 'Like what you see? Visit the ' +\n",
              "            '<a target=\"_blank\" href=https://colab.research.google.com/notebooks/data_table.ipynb>data table notebook</a>'\n",
              "            + ' to learn more about interactive tables.';\n",
              "          element.innerHTML = '';\n",
              "          dataTable['output_type'] = 'display_data';\n",
              "          await google.colab.output.renderOutput(dataTable, element);\n",
              "          const docLink = document.createElement('div');\n",
              "          docLink.innerHTML = docLinkHtml;\n",
              "          element.appendChild(docLink);\n",
              "        }\n",
              "      </script>\n",
              "    </div>\n",
              "  </div>\n",
              "  "
            ]
          },
          "metadata": {},
          "execution_count": 351
        }
      ]
    },
    {
      "cell_type": "markdown",
      "source": [
        "# Feature Engineering\n",
        "\n",
        "- Feature engineering is a process of improving attributes and features. It is a non-written procedural way of selecting and transforming data features. It is indeed helpful to write more insights as well as visualising data clearly.\n",
        "- It includes converting data and data types to convenient mode to retrieve useful information at any point during processing.\n",
        "\n",
        "\n",
        "**Why do we do Feature Engineering?**\n",
        "- Improve the model performance.\n",
        "- Set the input data compatible to process to the model.\n",
        "- Increase the level of visualization to create more insights.\n",
        "\n",
        "**What do we do in Feature Engineering?** \n",
        "    \n",
        "    -- Feature Transformation\n",
        "        + Missing Value Imputation\n",
        "        + Handling categorical Variables (Label Encoding, One Hot Encoding, Ordinal Encoding)\n",
        "        + Outlier detection\n",
        "        + Feature Scaling\n",
        "    -- Feature Construction\n",
        "    -- Feature Selection\n",
        "    -- Feature Extraction (PCA, LDA, t-SNA, SVD)\n"
      ],
      "metadata": {
        "id": "pF5EHAT_8_FM"
      }
    },
    {
      "cell_type": "markdown",
      "source": [
        "# Exploratory Data Analysis\n",
        "1. Missing values\n",
        "2. Explore about Numerical values\n",
        "3. Explore about categorical variables\n",
        "4. Relationship between features.\n",
        "\n",
        "We need EDA to perform Feature Engineering\n"
      ],
      "metadata": {
        "id": "-SXpBqFK_JpT"
      }
    },
    {
      "cell_type": "markdown",
      "source": [
        "## Correlation"
      ],
      "metadata": {
        "id": "Inj-Zues_oka"
      }
    },
    {
      "cell_type": "code",
      "source": [
        "corr = df.corr().round(2)\n",
        "mask = np.zeros_like(corr,dtype=np.bool)\n",
        "mask[np.triu_indices_from(mask)] = True\n",
        "f1,ax1 = plt.subplots(figsize=(15,15))\n",
        "cmap = sns.diverging_palette(220,200,as_cmap=True)\n",
        "sns.heatmap(corr,mask=mask,cmap=cmap,vmin=-1,vmax=1,center=0,square=True,linewidths=.5,cbar_kws={'shrink':0.5},annot=True)\n",
        "plt.tight_layout()\n",
        "plt.show()"
      ],
      "metadata": {
        "colab": {
          "base_uri": "https://localhost:8080/",
          "height": 903
        },
        "id": "GAOELrkP8833",
        "outputId": "855772d3-b82b-47b3-ffbf-8207932d35ba"
      },
      "execution_count": null,
      "outputs": [
        {
          "output_type": "display_data",
          "data": {
            "text/plain": [
              "<Figure size 1080x1080 with 2 Axes>"
            ],
            "image/png": "[encoded data removed]"
          },
          "metadata": {
            "needs_background": "light"
          }
        }
      ]
    },
    {
      "cell_type": "markdown",
      "source": [
        "## Let's proceed with the first step FEATURE TRANSFORMATION\n",
        "\n",
        "### Check with the missing values\n"
      ],
      "metadata": {
        "id": "T2zlOhBlBpqj"
      }
    },
    {
      "cell_type": "code",
      "source": [
        "df.isnull().sum()"
      ],
      "metadata": {
        "colab": {
          "base_uri": "https://localhost:8080/"
        },
        "id": "C-efMRhKAoqO",
        "outputId": "e5573557-04ad-4b9d-8868-eb3677ef121d"
      },
      "execution_count": null,
      "outputs": [
        {
          "output_type": "execute_result",
          "data": {
            "text/plain": [
              "Restaurant ID           0\n",
              "Restaurant Name         0\n",
              "Country Code            0\n",
              "City                    0\n",
              "Address                 0\n",
              "Locality                0\n",
              "Locality Verbose        0\n",
              "Longitude               0\n",
              "Latitude                0\n",
              "Cuisines                9\n",
              "Average Cost for two    0\n",
              "Currency                0\n",
              "Has Table booking       0\n",
              "Has Online delivery     0\n",
              "Is delivering now       0\n",
              "Switch to order menu    0\n",
              "Price range             0\n",
              "Aggregate rating        0\n",
              "Rating color            0\n",
              "Rating text             0\n",
              "Votes                   0\n",
              "dtype: int64"
            ]
          },
          "metadata": {},
          "execution_count": 353
        }
      ]
    },
    {
      "cell_type": "code",
      "source": [
        "[features for features in df.columns if df[features].isnull().sum()>0]"
      ],
      "metadata": {
        "id": "O60i-7axB2GN",
        "colab": {
          "base_uri": "https://localhost:8080/"
        },
        "outputId": "4d2cf24a-5e6a-4d30-decd-3377ea74a186"
      },
      "execution_count": null,
      "outputs": [
        {
          "output_type": "execute_result",
          "data": {
            "text/plain": [
              "['Cuisines']"
            ]
          },
          "metadata": {},
          "execution_count": 354
        }
      ]
    },
    {
      "cell_type": "markdown",
      "source": [
        "Check with the features having null values!! "
      ],
      "metadata": {
        "id": "9B798ZcFCFpi"
      }
    },
    {
      "cell_type": "code",
      "source": [
        "df.dropna(inplace=True) #as there are only 9 rows out of 9551 rows with zeroes I removed them."
      ],
      "metadata": {
        "id": "0zXcbldzCCWl"
      },
      "execution_count": null,
      "outputs": []
    },
    {
      "cell_type": "code",
      "source": [
        "df.shape"
      ],
      "metadata": {
        "colab": {
          "base_uri": "https://localhost:8080/"
        },
        "id": "aJ2jrhLlCCZC",
        "outputId": "b68cdc3a-ae64-450b-ddf5-67b70f876459"
      },
      "execution_count": null,
      "outputs": [
        {
          "output_type": "execute_result",
          "data": {
            "text/plain": [
              "(9542, 21)"
            ]
          },
          "metadata": {},
          "execution_count": 356
        }
      ]
    },
    {
      "cell_type": "markdown",
      "source": [
        "So that missing values are done!! \n",
        "We will now get the another file and merge with the original dataframe"
      ],
      "metadata": {
        "id": "9Ht0Jn-sCbF0"
      }
    },
    {
      "cell_type": "markdown",
      "source": [
        "We have Country-code excel file. Let's merge this!!"
      ],
      "metadata": {
        "id": "_iRnyXIGG8mw"
      }
    },
    {
      "cell_type": "code",
      "source": [
        "df_c = pd.read_excel(r'Country-Code.xlsx')\n",
        "df_c.head()"
      ],
      "metadata": {
        "colab": {
          "base_uri": "https://localhost:8080/",
          "height": 206
        },
        "id": "BL_oThOnHS5b",
        "outputId": "d6f70489-74fa-4611-de74-038ae2411ff5"
      },
      "execution_count": null,
      "outputs": [
        {
          "output_type": "execute_result",
          "data": {
            "text/plain": [
              "   Country Code    Country\n",
              "0             1      India\n",
              "1            14  Australia\n",
              "2            30     Brazil\n",
              "3            37     Canada\n",
              "4            94  Indonesia"
            ],
            "text/html": [
              "\n",
              "  <div id=\"df-a8ede223-92a8-4558-a769-15ab00e07201\">\n",
              "    <div class=\"colab-df-container\">\n",
              "      <div>\n",
              "<style scoped>\n",
              "    .dataframe tbody tr th:only-of-type {\n",
              "        vertical-align: middle;\n",
              "    }\n",
              "\n",
              "    .dataframe tbody tr th {\n",
              "        vertical-align: top;\n",
              "    }\n",
              "\n",
              "    .dataframe thead th {\n",
              "        text-align: right;\n",
              "    }\n",
              "</style>\n",
              "<table border=\"1\" class=\"dataframe\">\n",
              "  <thead>\n",
              "    <tr style=\"text-align: right;\">\n",
              "      <th></th>\n",
              "      <th>Country Code</th>\n",
              "      <th>Country</th>\n",
              "    </tr>\n",
              "  </thead>\n",
              "  <tbody>\n",
              "    <tr>\n",
              "      <th>0</th>\n",
              "      <td>1</td>\n",
              "      <td>India</td>\n",
              "    </tr>\n",
              "    <tr>\n",
              "      <th>1</th>\n",
              "      <td>14</td>\n",
              "      <td>Australia</td>\n",
              "    </tr>\n",
              "    <tr>\n",
              "      <th>2</th>\n",
              "      <td>30</td>\n",
              "      <td>Brazil</td>\n",
              "    </tr>\n",
              "    <tr>\n",
              "      <th>3</th>\n",
              "      <td>37</td>\n",
              "      <td>Canada</td>\n",
              "    </tr>\n",
              "    <tr>\n",
              "      <th>4</th>\n",
              "      <td>94</td>\n",
              "      <td>Indonesia</td>\n",
              "    </tr>\n",
              "  </tbody>\n",
              "</table>\n",
              "</div>\n",
              "      <button class=\"colab-df-convert\" onclick=\"convertToInteractive('df-a8ede223-92a8-4558-a769-15ab00e07201')\"\n",
              "              title=\"Convert this dataframe to an interactive table.\"\n",
              "              style=\"display:none;\">\n",
              "        \n",
              "  <svg xmlns=\"http://www.w3.org/2000/svg\" height=\"24px\"viewBox=\"0 0 24 24\"\n",
              "       width=\"24px\">\n",
              "    <path d=\"M0 0h24v24H0V0z\" fill=\"none\"/>\n",
              "    <path d=\"M18.56 5.44l.94 2.06.94-2.06 2.06-.94-2.06-.94-.94-2.06-.94 2.06-2.06.94zm-11 1L8.5 8.5l.94-2.06 2.06-.94-2.06-.94L8.5 2.5l-.94 2.06-2.06.94zm10 10l.94 2.06.94-2.06 2.06-.94-2.06-.94-.94-2.06-.94 2.06-2.06.94z\"/><path d=\"M17.41 7.96l-1.37-1.37c-.4-.4-.92-.59-1.43-.59-.52 0-1.04.2-1.43.59L10.3 9.45l-7.72 7.72c-.78.78-.78 2.05 0 2.83L4 21.41c.39.39.9.59 1.41.59.51 0 1.02-.2 1.41-.59l7.78-7.78 2.81-2.81c.8-.78.8-2.07 0-2.86zM5.41 20L4 18.59l7.72-7.72 1.47 1.35L5.41 20z\"/>\n",
              "  </svg>\n",
              "      </button>\n",
              "      \n",
              "  <style>\n",
              "    .colab-df-container {\n",
              "      display:flex;\n",
              "      flex-wrap:wrap;\n",
              "      gap: 12px;\n",
              "    }\n",
              "\n",
              "    .colab-df-convert {\n",
              "      background-color: #E8F0FE;\n",
              "      border: none;\n",
              "      border-radius: 50%;\n",
              "      cursor: pointer;\n",
              "      display: none;\n",
              "      fill: #1967D2;\n",
              "      height: 32px;\n",
              "      padding: 0 0 0 0;\n",
              "      width: 32px;\n",
              "    }\n",
              "\n",
              "    .colab-df-convert:hover {\n",
              "      background-color: #E2EBFA;\n",
              "      box-shadow: 0px 1px 2px rgba(60, 64, 67, 0.3), 0px 1px 3px 1px rgba(60, 64, 67, 0.15);\n",
              "      fill: #174EA6;\n",
              "    }\n",
              "\n",
              "    [theme=dark] .colab-df-convert {\n",
              "      background-color: #3B4455;\n",
              "      fill: #D2E3FC;\n",
              "    }\n",
              "\n",
              "    [theme=dark] .colab-df-convert:hover {\n",
              "      background-color: #434B5C;\n",
              "      box-shadow: 0px 1px 3px 1px rgba(0, 0, 0, 0.15);\n",
              "      filter: drop-shadow(0px 1px 2px rgba(0, 0, 0, 0.3));\n",
              "      fill: #FFFFFF;\n",
              "    }\n",
              "  </style>\n",
              "\n",
              "      <script>\n",
              "        const buttonEl =\n",
              "          document.querySelector('#df-a8ede223-92a8-4558-a769-15ab00e07201 button.colab-df-convert');\n",
              "        buttonEl.style.display =\n",
              "          google.colab.kernel.accessAllowed ? 'block' : 'none';\n",
              "\n",
              "        async function convertToInteractive(key) {\n",
              "          const element = document.querySelector('#df-a8ede223-92a8-4558-a769-15ab00e07201');\n",
              "          const dataTable =\n",
              "            await google.colab.kernel.invokeFunction('convertToInteractive',\n",
              "                                                     [key], {});\n",
              "          if (!dataTable) return;\n",
              "\n",
              "          const docLinkHtml = 'Like what you see? Visit the ' +\n",
              "            '<a target=\"_blank\" href=https://colab.research.google.com/notebooks/data_table.ipynb>data table notebook</a>'\n",
              "            + ' to learn more about interactive tables.';\n",
              "          element.innerHTML = '';\n",
              "          dataTable['output_type'] = 'display_data';\n",
              "          await google.colab.output.renderOutput(dataTable, element);\n",
              "          const docLink = document.createElement('div');\n",
              "          docLink.innerHTML = docLinkHtml;\n",
              "          element.appendChild(docLink);\n",
              "        }\n",
              "      </script>\n",
              "    </div>\n",
              "  </div>\n",
              "  "
            ]
          },
          "metadata": {},
          "execution_count": 357
        }
      ]
    },
    {
      "cell_type": "code",
      "source": [
        "df = pd.merge(df,df_c,on='Country Code',how='left')\n",
        "df.head()"
      ],
      "metadata": {
        "colab": {
          "base_uri": "https://localhost:8080/",
          "height": 889
        },
        "id": "1L7pPVnkHS74",
        "outputId": "150faffd-8f71-454f-c127-597a3aaae6d8"
      },
      "execution_count": null,
      "outputs": [
        {
          "output_type": "execute_result",
          "data": {
            "text/plain": [
              "   Restaurant ID         Restaurant Name  Country Code              City  \\\n",
              "0        6317637        Le Petit Souffle           162       Makati City   \n",
              "1        6304287        Izakaya Kikufuji           162       Makati City   \n",
              "2        6300002  Heat - Edsa Shangri-La           162  Mandaluyong City   \n",
              "3        6318506                    Ooma           162  Mandaluyong City   \n",
              "4        6314302             Sambo Kojin           162  Mandaluyong City   \n",
              "\n",
              "                                                                   Address  \\\n",
              "0  Third Floor, Century City Mall, Kalayaan Avenue, Poblacion, Makati City   \n",
              "1      Little Tokyo, 2277 Chino Roces Avenue, Legaspi Village, Makati City   \n",
              "2                 Edsa Shangri-La, 1 Garden Way, Ortigas, Mandaluyong City   \n",
              "3   Third Floor, Mega Fashion Hall, SM Megamall, Ortigas, Mandaluyong City   \n",
              "4         Third Floor, Mega Atrium, SM Megamall, Ortigas, Mandaluyong City   \n",
              "\n",
              "                                     Locality  \\\n",
              "0   Century City Mall, Poblacion, Makati City   \n",
              "1  Little Tokyo, Legaspi Village, Makati City   \n",
              "2  Edsa Shangri-La, Ortigas, Mandaluyong City   \n",
              "3      SM Megamall, Ortigas, Mandaluyong City   \n",
              "4      SM Megamall, Ortigas, Mandaluyong City   \n",
              "\n",
              "                                               Locality Verbose  Longitude  \\\n",
              "0        Century City Mall, Poblacion, Makati City, Makati City 121.027535   \n",
              "1       Little Tokyo, Legaspi Village, Makati City, Makati City 121.014101   \n",
              "2  Edsa Shangri-La, Ortigas, Mandaluyong City, Mandaluyong City 121.056831   \n",
              "3      SM Megamall, Ortigas, Mandaluyong City, Mandaluyong City 121.056475   \n",
              "4      SM Megamall, Ortigas, Mandaluyong City, Mandaluyong City 121.057508   \n",
              "\n",
              "   Latitude                          Cuisines  ...  Has Table booking  \\\n",
              "0 14.565443        French, Japanese, Desserts  ...                Yes   \n",
              "1 14.553708                          Japanese  ...                Yes   \n",
              "2 14.581404  Seafood, Asian, Filipino, Indian  ...                Yes   \n",
              "3 14.585318                   Japanese, Sushi  ...                 No   \n",
              "4 14.584450                  Japanese, Korean  ...                Yes   \n",
              "\n",
              "  Has Online delivery Is delivering now Switch to order menu Price range  \\\n",
              "0                  No                No                   No           3   \n",
              "1                  No                No                   No           3   \n",
              "2                  No                No                   No           4   \n",
              "3                  No                No                   No           4   \n",
              "4                  No                No                   No           4   \n",
              "\n",
              "  Aggregate rating  Rating color  Rating text Votes      Country  \n",
              "0         4.800000    Dark Green    Excellent   314  Phillipines  \n",
              "1         4.500000    Dark Green    Excellent   591  Phillipines  \n",
              "2         4.400000         Green    Very Good   270  Phillipines  \n",
              "3         4.900000    Dark Green    Excellent   365  Phillipines  \n",
              "4         4.800000    Dark Green    Excellent   229  Phillipines  \n",
              "\n",
              "[5 rows x 22 columns]"
            ],
            "text/html": [
              "\n",
              "  <div id=\"df-39ad7b1f-b831-4332-bed0-48dadb62c3e5\">\n",
              "    <div class=\"colab-df-container\">\n",
              "      <div>\n",
              "<style scoped>\n",
              "    .dataframe tbody tr th:only-of-type {\n",
              "        vertical-align: middle;\n",
              "    }\n",
              "\n",
              "    .dataframe tbody tr th {\n",
              "        vertical-align: top;\n",
              "    }\n",
              "\n",
              "    .dataframe thead th {\n",
              "        text-align: right;\n",
              "    }\n",
              "</style>\n",
              "<table border=\"1\" class=\"dataframe\">\n",
              "  <thead>\n",
              "    <tr style=\"text-align: right;\">\n",
              "      <th></th>\n",
              "      <th>Restaurant ID</th>\n",
              "      <th>Restaurant Name</th>\n",
              "      <th>Country Code</th>\n",
              "      <th>City</th>\n",
              "      <th>Address</th>\n",
              "      <th>Locality</th>\n",
              "      <th>Locality Verbose</th>\n",
              "      <th>Longitude</th>\n",
              "      <th>Latitude</th>\n",
              "      <th>Cuisines</th>\n",
              "      <th>...</th>\n",
              "      <th>Has Table booking</th>\n",
              "      <th>Has Online delivery</th>\n",
              "      <th>Is delivering now</th>\n",
              "      <th>Switch to order menu</th>\n",
              "      <th>Price range</th>\n",
              "      <th>Aggregate rating</th>\n",
              "      <th>Rating color</th>\n",
              "      <th>Rating text</th>\n",
              "      <th>Votes</th>\n",
              "      <th>Country</th>\n",
              "    </tr>\n",
              "  </thead>\n",
              "  <tbody>\n",
              "    <tr>\n",
              "      <th>0</th>\n",
              "      <td>6317637</td>\n",
              "      <td>Le Petit Souffle</td>\n",
              "      <td>162</td>\n",
              "      <td>Makati City</td>\n",
              "      <td>Third Floor, Century City Mall, Kalayaan Avenue, Poblacion, Makati City</td>\n",
              "      <td>Century City Mall, Poblacion, Makati City</td>\n",
              "      <td>Century City Mall, Poblacion, Makati City, Makati City</td>\n",
              "      <td>121.027535</td>\n",
              "      <td>14.565443</td>\n",
              "      <td>French, Japanese, Desserts</td>\n",
              "      <td>...</td>\n",
              "      <td>Yes</td>\n",
              "      <td>No</td>\n",
              "      <td>No</td>\n",
              "      <td>No</td>\n",
              "      <td>3</td>\n",
              "      <td>4.800000</td>\n",
              "      <td>Dark Green</td>\n",
              "      <td>Excellent</td>\n",
              "      <td>314</td>\n",
              "      <td>Phillipines</td>\n",
              "    </tr>\n",
              "    <tr>\n",
              "      <th>1</th>\n",
              "      <td>6304287</td>\n",
              "      <td>Izakaya Kikufuji</td>\n",
              "      <td>162</td>\n",
              "      <td>Makati City</td>\n",
              "      <td>Little Tokyo, 2277 Chino Roces Avenue, Legaspi Village, Makati City</td>\n",
              "      <td>Little Tokyo, Legaspi Village, Makati City</td>\n",
              "      <td>Little Tokyo, Legaspi Village, Makati City, Makati City</td>\n",
              "      <td>121.014101</td>\n",
              "      <td>14.553708</td>\n",
              "      <td>Japanese</td>\n",
              "      <td>...</td>\n",
              "      <td>Yes</td>\n",
              "      <td>No</td>\n",
              "      <td>No</td>\n",
              "      <td>No</td>\n",
              "      <td>3</td>\n",
              "      <td>4.500000</td>\n",
              "      <td>Dark Green</td>\n",
              "      <td>Excellent</td>\n",
              "      <td>591</td>\n",
              "      <td>Phillipines</td>\n",
              "    </tr>\n",
              "    <tr>\n",
              "      <th>2</th>\n",
              "      <td>6300002</td>\n",
              "      <td>Heat - Edsa Shangri-La</td>\n",
              "      <td>162</td>\n",
              "      <td>Mandaluyong City</td>\n",
              "      <td>Edsa Shangri-La, 1 Garden Way, Ortigas, Mandaluyong City</td>\n",
              "      <td>Edsa Shangri-La, Ortigas, Mandaluyong City</td>\n",
              "      <td>Edsa Shangri-La, Ortigas, Mandaluyong City, Mandaluyong City</td>\n",
              "      <td>121.056831</td>\n",
              "      <td>14.581404</td>\n",
              "      <td>Seafood, Asian, Filipino, Indian</td>\n",
              "      <td>...</td>\n",
              "      <td>Yes</td>\n",
              "      <td>No</td>\n",
              "      <td>No</td>\n",
              "      <td>No</td>\n",
              "      <td>4</td>\n",
              "      <td>4.400000</td>\n",
              "      <td>Green</td>\n",
              "      <td>Very Good</td>\n",
              "      <td>270</td>\n",
              "      <td>Phillipines</td>\n",
              "    </tr>\n",
              "    <tr>\n",
              "      <th>3</th>\n",
              "      <td>6318506</td>\n",
              "      <td>Ooma</td>\n",
              "      <td>162</td>\n",
              "      <td>Mandaluyong City</td>\n",
              "      <td>Third Floor, Mega Fashion Hall, SM Megamall, Ortigas, Mandaluyong City</td>\n",
              "      <td>SM Megamall, Ortigas, Mandaluyong City</td>\n",
              "      <td>SM Megamall, Ortigas, Mandaluyong City, Mandaluyong City</td>\n",
              "      <td>121.056475</td>\n",
              "      <td>14.585318</td>\n",
              "      <td>Japanese, Sushi</td>\n",
              "      <td>...</td>\n",
              "      <td>No</td>\n",
              "      <td>No</td>\n",
              "      <td>No</td>\n",
              "      <td>No</td>\n",
              "      <td>4</td>\n",
              "      <td>4.900000</td>\n",
              "      <td>Dark Green</td>\n",
              "      <td>Excellent</td>\n",
              "      <td>365</td>\n",
              "      <td>Phillipines</td>\n",
              "    </tr>\n",
              "    <tr>\n",
              "      <th>4</th>\n",
              "      <td>6314302</td>\n",
              "      <td>Sambo Kojin</td>\n",
              "      <td>162</td>\n",
              "      <td>Mandaluyong City</td>\n",
              "      <td>Third Floor, Mega Atrium, SM Megamall, Ortigas, Mandaluyong City</td>\n",
              "      <td>SM Megamall, Ortigas, Mandaluyong City</td>\n",
              "      <td>SM Megamall, Ortigas, Mandaluyong City, Mandaluyong City</td>\n",
              "      <td>121.057508</td>\n",
              "      <td>14.584450</td>\n",
              "      <td>Japanese, Korean</td>\n",
              "      <td>...</td>\n",
              "      <td>Yes</td>\n",
              "      <td>No</td>\n",
              "      <td>No</td>\n",
              "      <td>No</td>\n",
              "      <td>4</td>\n",
              "      <td>4.800000</td>\n",
              "      <td>Dark Green</td>\n",
              "      <td>Excellent</td>\n",
              "      <td>229</td>\n",
              "      <td>Phillipines</td>\n",
              "    </tr>\n",
              "  </tbody>\n",
              "</table>\n",
              "<p>5 rows × 22 columns</p>\n",
              "</div>\n",
              "      <button class=\"colab-df-convert\" onclick=\"convertToInteractive('df-39ad7b1f-b831-4332-bed0-48dadb62c3e5')\"\n",
              "              title=\"Convert this dataframe to an interactive table.\"\n",
              "              style=\"display:none;\">\n",
              "        \n",
              "  <svg xmlns=\"http://www.w3.org/2000/svg\" height=\"24px\"viewBox=\"0 0 24 24\"\n",
              "       width=\"24px\">\n",
              "    <path d=\"M0 0h24v24H0V0z\" fill=\"none\"/>\n",
              "    <path d=\"M18.56 5.44l.94 2.06.94-2.06 2.06-.94-2.06-.94-.94-2.06-.94 2.06-2.06.94zm-11 1L8.5 8.5l.94-2.06 2.06-.94-2.06-.94L8.5 2.5l-.94 2.06-2.06.94zm10 10l.94 2.06.94-2.06 2.06-.94-2.06-.94-.94-2.06-.94 2.06-2.06.94z\"/><path d=\"M17.41 7.96l-1.37-1.37c-.4-.4-.92-.59-1.43-.59-.52 0-1.04.2-1.43.59L10.3 9.45l-7.72 7.72c-.78.78-.78 2.05 0 2.83L4 21.41c.39.39.9.59 1.41.59.51 0 1.02-.2 1.41-.59l7.78-7.78 2.81-2.81c.8-.78.8-2.07 0-2.86zM5.41 20L4 18.59l7.72-7.72 1.47 1.35L5.41 20z\"/>\n",
              "  </svg>\n",
              "      </button>\n",
              "      \n",
              "  <style>\n",
              "    .colab-df-container {\n",
              "      display:flex;\n",
              "      flex-wrap:wrap;\n",
              "      gap: 12px;\n",
              "    }\n",
              "\n",
              "    .colab-df-convert {\n",
              "      background-color: #E8F0FE;\n",
              "      border: none;\n",
              "      border-radius: 50%;\n",
              "      cursor: pointer;\n",
              "      display: none;\n",
              "      fill: #1967D2;\n",
              "      height: 32px;\n",
              "      padding: 0 0 0 0;\n",
              "      width: 32px;\n",
              "    }\n",
              "\n",
              "    .colab-df-convert:hover {\n",
              "      background-color: #E2EBFA;\n",
              "      box-shadow: 0px 1px 2px rgba(60, 64, 67, 0.3), 0px 1px 3px 1px rgba(60, 64, 67, 0.15);\n",
              "      fill: #174EA6;\n",
              "    }\n",
              "\n",
              "    [theme=dark] .colab-df-convert {\n",
              "      background-color: #3B4455;\n",
              "      fill: #D2E3FC;\n",
              "    }\n",
              "\n",
              "    [theme=dark] .colab-df-convert:hover {\n",
              "      background-color: #434B5C;\n",
              "      box-shadow: 0px 1px 3px 1px rgba(0, 0, 0, 0.15);\n",
              "      filter: drop-shadow(0px 1px 2px rgba(0, 0, 0, 0.3));\n",
              "      fill: #FFFFFF;\n",
              "    }\n",
              "  </style>\n",
              "\n",
              "      <script>\n",
              "        const buttonEl =\n",
              "          document.querySelector('#df-39ad7b1f-b831-4332-bed0-48dadb62c3e5 button.colab-df-convert');\n",
              "        buttonEl.style.display =\n",
              "          google.colab.kernel.accessAllowed ? 'block' : 'none';\n",
              "\n",
              "        async function convertToInteractive(key) {\n",
              "          const element = document.querySelector('#df-39ad7b1f-b831-4332-bed0-48dadb62c3e5');\n",
              "          const dataTable =\n",
              "            await google.colab.kernel.invokeFunction('convertToInteractive',\n",
              "                                                     [key], {});\n",
              "          if (!dataTable) return;\n",
              "\n",
              "          const docLinkHtml = 'Like what you see? Visit the ' +\n",
              "            '<a target=\"_blank\" href=https://colab.research.google.com/notebooks/data_table.ipynb>data table notebook</a>'\n",
              "            + ' to learn more about interactive tables.';\n",
              "          element.innerHTML = '';\n",
              "          dataTable['output_type'] = 'display_data';\n",
              "          await google.colab.output.renderOutput(dataTable, element);\n",
              "          const docLink = document.createElement('div');\n",
              "          docLink.innerHTML = docLinkHtml;\n",
              "          element.appendChild(docLink);\n",
              "        }\n",
              "      </script>\n",
              "    </div>\n",
              "  </div>\n",
              "  "
            ]
          },
          "metadata": {},
          "execution_count": 358
        }
      ]
    },
    {
      "cell_type": "markdown",
      "source": [
        "So that we got the new dataframe!! \n"
      ],
      "metadata": {
        "id": "LAUOdMosG2gK"
      }
    },
    {
      "cell_type": "code",
      "source": [
        "df['Country Code'].unique()"
      ],
      "metadata": {
        "colab": {
          "base_uri": "https://localhost:8080/"
        },
        "id": "NpeWIe7DFM6T",
        "outputId": "9081bc6a-7894-42b3-d15d-9f886d057dcc"
      },
      "execution_count": null,
      "outputs": [
        {
          "output_type": "execute_result",
          "data": {
            "text/plain": [
              "array([162,  30, 216,  14,  37, 184, 214,   1,  94, 148, 215, 166, 189,\n",
              "       191, 208])"
            ]
          },
          "metadata": {},
          "execution_count": 359
        }
      ]
    },
    {
      "cell_type": "markdown",
      "source": [
        "But, we can't do this manual check for large datasets!! Lets use _get_numerical_data() function!! "
      ],
      "metadata": {
        "id": "wqa7JEmyH3rM"
      }
    },
    {
      "cell_type": "code",
      "source": [
        "df.columns"
      ],
      "metadata": {
        "colab": {
          "base_uri": "https://localhost:8080/"
        },
        "id": "HZH6n5h9CCfJ",
        "outputId": "e746ac6b-c276-415b-f7fe-1831827b6d26"
      },
      "execution_count": null,
      "outputs": [
        {
          "output_type": "execute_result",
          "data": {
            "text/plain": [
              "Index(['Restaurant ID', 'Restaurant Name', 'Country Code', 'City', 'Address',\n",
              "       'Locality', 'Locality Verbose', 'Longitude', 'Latitude', 'Cuisines',\n",
              "       'Average Cost for two', 'Currency', 'Has Table booking',\n",
              "       'Has Online delivery', 'Is delivering now', 'Switch to order menu',\n",
              "       'Price range', 'Aggregate rating', 'Rating color', 'Rating text',\n",
              "       'Votes', 'Country'],\n",
              "      dtype='object')"
            ]
          },
          "metadata": {},
          "execution_count": 360
        }
      ]
    },
    {
      "cell_type": "markdown",
      "source": [
        "### Lets make a few questions!! \n",
        "\n",
        "1. Which country has the highest orders?"
      ],
      "metadata": {
        "id": "bdWd4X06N7pl"
      }
    },
    {
      "cell_type": "code",
      "source": [
        "country_count = df.Country.value_counts()\n",
        "country_count"
      ],
      "metadata": {
        "colab": {
          "base_uri": "https://localhost:8080/"
        },
        "id": "BIQMXYIHNzTW",
        "outputId": "bad30faa-878e-4918-d1d9-c61ca696dce0"
      },
      "execution_count": null,
      "outputs": [
        {
          "output_type": "execute_result",
          "data": {
            "text/plain": [
              "India             8652\n",
              "United States      425\n",
              "United Kingdom      80\n",
              "Brazil              60\n",
              "UAE                 60\n",
              "South Africa        60\n",
              "New Zealand         40\n",
              "Turkey              34\n",
              "Australia           24\n",
              "Phillipines         22\n",
              "Indonesia           21\n",
              "Singapore           20\n",
              "Qatar               20\n",
              "Sri Lanka           20\n",
              "Canada               4\n",
              "Name: Country, dtype: int64"
            ]
          },
          "metadata": {},
          "execution_count": 361
        }
      ]
    },
    {
      "cell_type": "code",
      "source": [
        "sns.set_style('whitegrid')\n",
        "fig1 = plt.figure(figsize=(15,15))\n",
        "\n",
        "sns.barplot(x=country_count.index, y=country_count.values)\n",
        "plt.xticks(rotation=90)\n",
        "plt.show()"
      ],
      "metadata": {
        "colab": {
          "base_uri": "https://localhost:8080/",
          "height": 945
        },
        "id": "9cQYjKx9OPs4",
        "outputId": "3415d70f-5fcf-4e1d-fb87-564ad83000cd"
      },
      "execution_count": null,
      "outputs": [
        {
          "output_type": "display_data",
          "data": {
            "text/plain": [
              "<Figure size 1080x1080 with 1 Axes>"
            ],
            "image/png": "[encoded data removed]"
          },
          "metadata": {}
        }
      ]
    },
    {
      "cell_type": "markdown",
      "source": [
        "We can also use a count plot instead which we will see further!! For now we will check what percentage of Orders the top 3 countries covered"
      ],
      "metadata": {
        "id": "4ItHRV4OO1Jd"
      }
    },
    {
      "cell_type": "code",
      "source": [
        "plt.pie(country_count.values[:3],labels=country_count.index[:3], radius=2,autopct='%1.2f%%')\n",
        "plt.show()\n"
      ],
      "metadata": {
        "colab": {
          "base_uri": "https://localhost:8080/",
          "height": 381
        },
        "id": "u9IfZvlEOcEZ",
        "outputId": "60374f6e-d97f-4316-f68c-0dbeae499605"
      },
      "execution_count": null,
      "outputs": [
        {
          "output_type": "display_data",
          "data": {
            "text/plain": [
              "<Figure size 432x288 with 1 Axes>"
            ],
            "image/png": "[encoded data removed]"
          },
          "metadata": {}
        }
      ]
    },
    {
      "cell_type": "markdown",
      "source": [],
      "metadata": {
        "id": "h1h9jP23QBWE"
      }
    },
    {
      "cell_type": "code",
      "source": [
        "df.head()"
      ],
      "metadata": {
        "colab": {
          "base_uri": "https://localhost:8080/",
          "height": 889
        },
        "id": "0ma_f93WN0gD",
        "outputId": "324839e4-1d42-4004-cdc9-c951a71bf62e"
      },
      "execution_count": null,
      "outputs": [
        {
          "output_type": "execute_result",
          "data": {
            "text/plain": [
              "   Restaurant ID         Restaurant Name  Country Code              City  \\\n",
              "0        6317637        Le Petit Souffle           162       Makati City   \n",
              "1        6304287        Izakaya Kikufuji           162       Makati City   \n",
              "2        6300002  Heat - Edsa Shangri-La           162  Mandaluyong City   \n",
              "3        6318506                    Ooma           162  Mandaluyong City   \n",
              "4        6314302             Sambo Kojin           162  Mandaluyong City   \n",
              "\n",
              "                                                                   Address  \\\n",
              "0  Third Floor, Century City Mall, Kalayaan Avenue, Poblacion, Makati City   \n",
              "1      Little Tokyo, 2277 Chino Roces Avenue, Legaspi Village, Makati City   \n",
              "2                 Edsa Shangri-La, 1 Garden Way, Ortigas, Mandaluyong City   \n",
              "3   Third Floor, Mega Fashion Hall, SM Megamall, Ortigas, Mandaluyong City   \n",
              "4         Third Floor, Mega Atrium, SM Megamall, Ortigas, Mandaluyong City   \n",
              "\n",
              "                                     Locality  \\\n",
              "0   Century City Mall, Poblacion, Makati City   \n",
              "1  Little Tokyo, Legaspi Village, Makati City   \n",
              "2  Edsa Shangri-La, Ortigas, Mandaluyong City   \n",
              "3      SM Megamall, Ortigas, Mandaluyong City   \n",
              "4      SM Megamall, Ortigas, Mandaluyong City   \n",
              "\n",
              "                                               Locality Verbose  Longitude  \\\n",
              "0        Century City Mall, Poblacion, Makati City, Makati City 121.027535   \n",
              "1       Little Tokyo, Legaspi Village, Makati City, Makati City 121.014101   \n",
              "2  Edsa Shangri-La, Ortigas, Mandaluyong City, Mandaluyong City 121.056831   \n",
              "3      SM Megamall, Ortigas, Mandaluyong City, Mandaluyong City 121.056475   \n",
              "4      SM Megamall, Ortigas, Mandaluyong City, Mandaluyong City 121.057508   \n",
              "\n",
              "   Latitude                          Cuisines  ...  Has Table booking  \\\n",
              "0 14.565443        French, Japanese, Desserts  ...                Yes   \n",
              "1 14.553708                          Japanese  ...                Yes   \n",
              "2 14.581404  Seafood, Asian, Filipino, Indian  ...                Yes   \n",
              "3 14.585318                   Japanese, Sushi  ...                 No   \n",
              "4 14.584450                  Japanese, Korean  ...                Yes   \n",
              "\n",
              "  Has Online delivery Is delivering now Switch to order menu Price range  \\\n",
              "0                  No                No                   No           3   \n",
              "1                  No                No                   No           3   \n",
              "2                  No                No                   No           4   \n",
              "3                  No                No                   No           4   \n",
              "4                  No                No                   No           4   \n",
              "\n",
              "  Aggregate rating  Rating color  Rating text Votes      Country  \n",
              "0         4.800000    Dark Green    Excellent   314  Phillipines  \n",
              "1         4.500000    Dark Green    Excellent   591  Phillipines  \n",
              "2         4.400000         Green    Very Good   270  Phillipines  \n",
              "3         4.900000    Dark Green    Excellent   365  Phillipines  \n",
              "4         4.800000    Dark Green    Excellent   229  Phillipines  \n",
              "\n",
              "[5 rows x 22 columns]"
            ],
            "text/html": [
              "\n",
              "  <div id=\"df-5f6d6472-fd3c-4785-9ee3-67b186679661\">\n",
              "    <div class=\"colab-df-container\">\n",
              "      <div>\n",
              "<style scoped>\n",
              "    .dataframe tbody tr th:only-of-type {\n",
              "        vertical-align: middle;\n",
              "    }\n",
              "\n",
              "    .dataframe tbody tr th {\n",
              "        vertical-align: top;\n",
              "    }\n",
              "\n",
              "    .dataframe thead th {\n",
              "        text-align: right;\n",
              "    }\n",
              "</style>\n",
              "<table border=\"1\" class=\"dataframe\">\n",
              "  <thead>\n",
              "    <tr style=\"text-align: right;\">\n",
              "      <th></th>\n",
              "      <th>Restaurant ID</th>\n",
              "      <th>Restaurant Name</th>\n",
              "      <th>Country Code</th>\n",
              "      <th>City</th>\n",
              "      <th>Address</th>\n",
              "      <th>Locality</th>\n",
              "      <th>Locality Verbose</th>\n",
              "      <th>Longitude</th>\n",
              "      <th>Latitude</th>\n",
              "      <th>Cuisines</th>\n",
              "      <th>...</th>\n",
              "      <th>Has Table booking</th>\n",
              "      <th>Has Online delivery</th>\n",
              "      <th>Is delivering now</th>\n",
              "      <th>Switch to order menu</th>\n",
              "      <th>Price range</th>\n",
              "      <th>Aggregate rating</th>\n",
              "      <th>Rating color</th>\n",
              "      <th>Rating text</th>\n",
              "      <th>Votes</th>\n",
              "      <th>Country</th>\n",
              "    </tr>\n",
              "  </thead>\n",
              "  <tbody>\n",
              "    <tr>\n",
              "      <th>0</th>\n",
              "      <td>6317637</td>\n",
              "      <td>Le Petit Souffle</td>\n",
              "      <td>162</td>\n",
              "      <td>Makati City</td>\n",
              "      <td>Third Floor, Century City Mall, Kalayaan Avenue, Poblacion, Makati City</td>\n",
              "      <td>Century City Mall, Poblacion, Makati City</td>\n",
              "      <td>Century City Mall, Poblacion, Makati City, Makati City</td>\n",
              "      <td>121.027535</td>\n",
              "      <td>14.565443</td>\n",
              "      <td>French, Japanese, Desserts</td>\n",
              "      <td>...</td>\n",
              "      <td>Yes</td>\n",
              "      <td>No</td>\n",
              "      <td>No</td>\n",
              "      <td>No</td>\n",
              "      <td>3</td>\n",
              "      <td>4.800000</td>\n",
              "      <td>Dark Green</td>\n",
              "      <td>Excellent</td>\n",
              "      <td>314</td>\n",
              "      <td>Phillipines</td>\n",
              "    </tr>\n",
              "    <tr>\n",
              "      <th>1</th>\n",
              "      <td>6304287</td>\n",
              "      <td>Izakaya Kikufuji</td>\n",
              "      <td>162</td>\n",
              "      <td>Makati City</td>\n",
              "      <td>Little Tokyo, 2277 Chino Roces Avenue, Legaspi Village, Makati City</td>\n",
              "      <td>Little Tokyo, Legaspi Village, Makati City</td>\n",
              "      <td>Little Tokyo, Legaspi Village, Makati City, Makati City</td>\n",
              "      <td>121.014101</td>\n",
              "      <td>14.553708</td>\n",
              "      <td>Japanese</td>\n",
              "      <td>...</td>\n",
              "      <td>Yes</td>\n",
              "      <td>No</td>\n",
              "      <td>No</td>\n",
              "      <td>No</td>\n",
              "      <td>3</td>\n",
              "      <td>4.500000</td>\n",
              "      <td>Dark Green</td>\n",
              "      <td>Excellent</td>\n",
              "      <td>591</td>\n",
              "      <td>Phillipines</td>\n",
              "    </tr>\n",
              "    <tr>\n",
              "      <th>2</th>\n",
              "      <td>6300002</td>\n",
              "      <td>Heat - Edsa Shangri-La</td>\n",
              "      <td>162</td>\n",
              "      <td>Mandaluyong City</td>\n",
              "      <td>Edsa Shangri-La, 1 Garden Way, Ortigas, Mandaluyong City</td>\n",
              "      <td>Edsa Shangri-La, Ortigas, Mandaluyong City</td>\n",
              "      <td>Edsa Shangri-La, Ortigas, Mandaluyong City, Mandaluyong City</td>\n",
              "      <td>121.056831</td>\n",
              "      <td>14.581404</td>\n",
              "      <td>Seafood, Asian, Filipino, Indian</td>\n",
              "      <td>...</td>\n",
              "      <td>Yes</td>\n",
              "      <td>No</td>\n",
              "      <td>No</td>\n",
              "      <td>No</td>\n",
              "      <td>4</td>\n",
              "      <td>4.400000</td>\n",
              "      <td>Green</td>\n",
              "      <td>Very Good</td>\n",
              "      <td>270</td>\n",
              "      <td>Phillipines</td>\n",
              "    </tr>\n",
              "    <tr>\n",
              "      <th>3</th>\n",
              "      <td>6318506</td>\n",
              "      <td>Ooma</td>\n",
              "      <td>162</td>\n",
              "      <td>Mandaluyong City</td>\n",
              "      <td>Third Floor, Mega Fashion Hall, SM Megamall, Ortigas, Mandaluyong City</td>\n",
              "      <td>SM Megamall, Ortigas, Mandaluyong City</td>\n",
              "      <td>SM Megamall, Ortigas, Mandaluyong City, Mandaluyong City</td>\n",
              "      <td>121.056475</td>\n",
              "      <td>14.585318</td>\n",
              "      <td>Japanese, Sushi</td>\n",
              "      <td>...</td>\n",
              "      <td>No</td>\n",
              "      <td>No</td>\n",
              "      <td>No</td>\n",
              "      <td>No</td>\n",
              "      <td>4</td>\n",
              "      <td>4.900000</td>\n",
              "      <td>Dark Green</td>\n",
              "      <td>Excellent</td>\n",
              "      <td>365</td>\n",
              "      <td>Phillipines</td>\n",
              "    </tr>\n",
              "    <tr>\n",
              "      <th>4</th>\n",
              "      <td>6314302</td>\n",
              "      <td>Sambo Kojin</td>\n",
              "      <td>162</td>\n",
              "      <td>Mandaluyong City</td>\n",
              "      <td>Third Floor, Mega Atrium, SM Megamall, Ortigas, Mandaluyong City</td>\n",
              "      <td>SM Megamall, Ortigas, Mandaluyong City</td>\n",
              "      <td>SM Megamall, Ortigas, Mandaluyong City, Mandaluyong City</td>\n",
              "      <td>121.057508</td>\n",
              "      <td>14.584450</td>\n",
              "      <td>Japanese, Korean</td>\n",
              "      <td>...</td>\n",
              "      <td>Yes</td>\n",
              "      <td>No</td>\n",
              "      <td>No</td>\n",
              "      <td>No</td>\n",
              "      <td>4</td>\n",
              "      <td>4.800000</td>\n",
              "      <td>Dark Green</td>\n",
              "      <td>Excellent</td>\n",
              "      <td>229</td>\n",
              "      <td>Phillipines</td>\n",
              "    </tr>\n",
              "  </tbody>\n",
              "</table>\n",
              "<p>5 rows × 22 columns</p>\n",
              "</div>\n",
              "      <button class=\"colab-df-convert\" onclick=\"convertToInteractive('df-5f6d6472-fd3c-4785-9ee3-67b186679661')\"\n",
              "              title=\"Convert this dataframe to an interactive table.\"\n",
              "              style=\"display:none;\">\n",
              "        \n",
              "  <svg xmlns=\"http://www.w3.org/2000/svg\" height=\"24px\"viewBox=\"0 0 24 24\"\n",
              "       width=\"24px\">\n",
              "    <path d=\"M0 0h24v24H0V0z\" fill=\"none\"/>\n",
              "    <path d=\"M18.56 5.44l.94 2.06.94-2.06 2.06-.94-2.06-.94-.94-2.06-.94 2.06-2.06.94zm-11 1L8.5 8.5l.94-2.06 2.06-.94-2.06-.94L8.5 2.5l-.94 2.06-2.06.94zm10 10l.94 2.06.94-2.06 2.06-.94-2.06-.94-.94-2.06-.94 2.06-2.06.94z\"/><path d=\"M17.41 7.96l-1.37-1.37c-.4-.4-.92-.59-1.43-.59-.52 0-1.04.2-1.43.59L10.3 9.45l-7.72 7.72c-.78.78-.78 2.05 0 2.83L4 21.41c.39.39.9.59 1.41.59.51 0 1.02-.2 1.41-.59l7.78-7.78 2.81-2.81c.8-.78.8-2.07 0-2.86zM5.41 20L4 18.59l7.72-7.72 1.47 1.35L5.41 20z\"/>\n",
              "  </svg>\n",
              "      </button>\n",
              "      \n",
              "  <style>\n",
              "    .colab-df-container {\n",
              "      display:flex;\n",
              "      flex-wrap:wrap;\n",
              "      gap: 12px;\n",
              "    }\n",
              "\n",
              "    .colab-df-convert {\n",
              "      background-color: #E8F0FE;\n",
              "      border: none;\n",
              "      border-radius: 50%;\n",
              "      cursor: pointer;\n",
              "      display: none;\n",
              "      fill: #1967D2;\n",
              "      height: 32px;\n",
              "      padding: 0 0 0 0;\n",
              "      width: 32px;\n",
              "    }\n",
              "\n",
              "    .colab-df-convert:hover {\n",
              "      background-color: #E2EBFA;\n",
              "      box-shadow: 0px 1px 2px rgba(60, 64, 67, 0.3), 0px 1px 3px 1px rgba(60, 64, 67, 0.15);\n",
              "      fill: #174EA6;\n",
              "    }\n",
              "\n",
              "    [theme=dark] .colab-df-convert {\n",
              "      background-color: #3B4455;\n",
              "      fill: #D2E3FC;\n",
              "    }\n",
              "\n",
              "    [theme=dark] .colab-df-convert:hover {\n",
              "      background-color: #434B5C;\n",
              "      box-shadow: 0px 1px 3px 1px rgba(0, 0, 0, 0.15);\n",
              "      filter: drop-shadow(0px 1px 2px rgba(0, 0, 0, 0.3));\n",
              "      fill: #FFFFFF;\n",
              "    }\n",
              "  </style>\n",
              "\n",
              "      <script>\n",
              "        const buttonEl =\n",
              "          document.querySelector('#df-5f6d6472-fd3c-4785-9ee3-67b186679661 button.colab-df-convert');\n",
              "        buttonEl.style.display =\n",
              "          google.colab.kernel.accessAllowed ? 'block' : 'none';\n",
              "\n",
              "        async function convertToInteractive(key) {\n",
              "          const element = document.querySelector('#df-5f6d6472-fd3c-4785-9ee3-67b186679661');\n",
              "          const dataTable =\n",
              "            await google.colab.kernel.invokeFunction('convertToInteractive',\n",
              "                                                     [key], {});\n",
              "          if (!dataTable) return;\n",
              "\n",
              "          const docLinkHtml = 'Like what you see? Visit the ' +\n",
              "            '<a target=\"_blank\" href=https://colab.research.google.com/notebooks/data_table.ipynb>data table notebook</a>'\n",
              "            + ' to learn more about interactive tables.';\n",
              "          element.innerHTML = '';\n",
              "          dataTable['output_type'] = 'display_data';\n",
              "          await google.colab.output.renderOutput(dataTable, element);\n",
              "          const docLink = document.createElement('div');\n",
              "          docLink.innerHTML = docLinkHtml;\n",
              "          element.appendChild(docLink);\n",
              "        }\n",
              "      </script>\n",
              "    </div>\n",
              "  </div>\n",
              "  "
            ]
          },
          "metadata": {},
          "execution_count": 364
        }
      ]
    },
    {
      "cell_type": "code",
      "source": [
        "df.columns"
      ],
      "metadata": {
        "colab": {
          "base_uri": "https://localhost:8080/"
        },
        "id": "6FHxmG8sQCrW",
        "outputId": "56a69bec-369b-4ea6-8a7a-3a5936d5dd64"
      },
      "execution_count": null,
      "outputs": [
        {
          "output_type": "execute_result",
          "data": {
            "text/plain": [
              "Index(['Restaurant ID', 'Restaurant Name', 'Country Code', 'City', 'Address',\n",
              "       'Locality', 'Locality Verbose', 'Longitude', 'Latitude', 'Cuisines',\n",
              "       'Average Cost for two', 'Currency', 'Has Table booking',\n",
              "       'Has Online delivery', 'Is delivering now', 'Switch to order menu',\n",
              "       'Price range', 'Aggregate rating', 'Rating color', 'Rating text',\n",
              "       'Votes', 'Country'],\n",
              "      dtype='object')"
            ]
          },
          "metadata": {},
          "execution_count": 365
        }
      ]
    },
    {
      "cell_type": "code",
      "source": [
        "pd.options.display.max_colwidth = 200"
      ],
      "metadata": {
        "id": "solxAyRRRJE5"
      },
      "execution_count": null,
      "outputs": []
    },
    {
      "cell_type": "markdown",
      "source": [
        "## Check for Restaurants and the cuisines available count"
      ],
      "metadata": {
        "id": "t4lVmmgHSb-5"
      }
    },
    {
      "cell_type": "code",
      "source": [
        "Cuisine_label = str(input('Enter the Cuisine you want to search for: '))\n",
        "df['Availability_Cuisine'] = df['Cuisines'].apply(lambda x: 1 if Cuisine_label in x else 0)\n",
        "print('Here are the list of Restaurants for your request: ')\n",
        "df[df['Availability_Cuisine']==1][['Restaurant ID','Restaurant Name','Address','Aggregate rating']]"
      ],
      "metadata": {
        "colab": {
          "base_uri": "https://localhost:8080/",
          "height": 838
        },
        "id": "gcDLBX5ZRlEg",
        "outputId": "39297ff0-f3bf-4a45-899c-b5a490f50be7"
      },
      "execution_count": null,
      "outputs": [
        {
          "output_type": "stream",
          "name": "stdout",
          "text": [
            "Enter the Cuisine you want to search for: Korean\n",
            "Here are the list of Restaurants for your request: \n"
          ]
        },
        {
          "output_type": "execute_result",
          "data": {
            "text/plain": [
              "      Restaurant ID                           Restaurant Name  \\\n",
              "4           6314302                               Sambo Kojin   \n",
              "14          6314605                   Sodam Korean Restaurant   \n",
              "18         18255654                Hobing Korean Dessert Cafe   \n",
              "103        17293163                        Choo Choo Eastside   \n",
              "1398       18281982                               Bamboo Boat   \n",
              "1456           9773                                   Di Miso   \n",
              "1624       18391155                            Hahn's Kitchen   \n",
              "1686           3243                             K2 Restaurant   \n",
              "1854           3575                           Gung The Palace   \n",
              "2673           3295                       Restaurant De Seoul   \n",
              "2971       18245298                               Boa Village   \n",
              "3283           7681                          Korea Restaurant   \n",
              "3795           3400                           Gung The Palace   \n",
              "3996            422             Chor Bizarre - Hotel Broadway   \n",
              "4079         309548  Tian - Asian Cuisine Studio - ITC Maurya   \n",
              "4872       18466740               K2 Multi Cuisine Restaurant   \n",
              "6812       18337779                                    Kori's   \n",
              "7060         311103                                Bings Cafe   \n",
              "8046       18366022                       Chi Asian Cookhouse   \n",
              "9134        3700387            Bay of Buddha -  The Promenade   \n",
              "9272       18425821                                      OJJU   \n",
              "\n",
              "                                                                                                      Address  \\\n",
              "4                                            Third Floor, Mega Atrium, SM Megamall, Ortigas, Mandaluyong City   \n",
              "14                                                      17 J. Abad Santos Drive, Little Baguio, San Juan City   \n",
              "18    Third Floor, BGC Stopover Pavillion, Rizal Drive Corner 31st Street, Bonifacio Global City, Taguig City   \n",
              "103                                                           1055 Gaines School Rd Ste 100, Athens, GA 30605   \n",
              "1398                                                                 Behind Supermart 2, DLF Phase 4, Gurgaon   \n",
              "1456                                           11, Ground Floor, Global Foyer Mall, Golf Course Road, Gurgaon   \n",
              "1624                                                            One Horizon Centre, Golf Course Road, Gurgaon   \n",
              "1686                                                                  3rd Floor, Plaza Mall, MG Road, Gurgaon   \n",
              "1854                                                                  SCO 28, Main Market, Sector 29, Gurgaon   \n",
              "2673                          3rd Floor, C Block, Ansal Plaza Mall, Near Siri Fort, Khel Gaon Marg, New Delhi   \n",
              "2971                                                                  13, Alipur Road, Civil Lines, New Delhi   \n",
              "3283                              1612-G/F, Outram Line, Kingsway Camp, Delhi University-GTB Nagar, New Delhi   \n",
              "3795                                                      D-1/B, Near Ashirwad Complex, Green Park, New Delhi   \n",
              "3996                                                             Hotel Broadway, 4/15/A, Daryaganj, New Delhi   \n",
              "4079                                                  ITC Maurya, Diplomatic Enclave, Chanakyapuri, New Delhi   \n",
              "4872                                                               A-44, 1st Floor, Lajpat Nagar 2, New Delhi   \n",
              "6812                                            R-62/1, Humayunpur, Safdarjung Enclave, Safdarjung, New Delhi   \n",
              "7060                                                       2nd Floor, Select City Walk Mall, Saket, New Delhi   \n",
              "8046                                                    F-456, 3rd Floor, DLF Mall of India, Sector 18, Noida   \n",
              "9134                                                The Promenade, 23, Goubert Avenue, White Town, Puducherry   \n",
              "9272                                             Gandaria City, Lantai Upper Ground, Jl. Sultan Iskandar Muda   \n",
              "\n",
              "      Aggregate rating  \n",
              "4             4.800000  \n",
              "14            4.300000  \n",
              "18            4.500000  \n",
              "103           3.900000  \n",
              "1398          3.800000  \n",
              "1456          3.600000  \n",
              "1624          3.200000  \n",
              "1686          3.000000  \n",
              "1854          4.200000  \n",
              "2673          3.600000  \n",
              "2971          4.000000  \n",
              "3283          3.000000  \n",
              "3795          3.700000  \n",
              "3996          3.900000  \n",
              "4079          4.100000  \n",
              "4872          0.000000  \n",
              "6812          3.600000  \n",
              "7060          3.900000  \n",
              "8046          3.900000  \n",
              "9134          3.800000  \n",
              "9272          3.900000  "
            ],
            "text/html": [
              "\n",
              "  <div id=\"df-2fef2f51-17dd-4ace-8665-a32681732ac1\">\n",
              "    <div class=\"colab-df-container\">\n",
              "      <div>\n",
              "<style scoped>\n",
              "    .dataframe tbody tr th:only-of-type {\n",
              "        vertical-align: middle;\n",
              "    }\n",
              "\n",
              "    .dataframe tbody tr th {\n",
              "        vertical-align: top;\n",
              "    }\n",
              "\n",
              "    .dataframe thead th {\n",
              "        text-align: right;\n",
              "    }\n",
              "</style>\n",
              "<table border=\"1\" class=\"dataframe\">\n",
              "  <thead>\n",
              "    <tr style=\"text-align: right;\">\n",
              "      <th></th>\n",
              "      <th>Restaurant ID</th>\n",
              "      <th>Restaurant Name</th>\n",
              "      <th>Address</th>\n",
              "      <th>Aggregate rating</th>\n",
              "    </tr>\n",
              "  </thead>\n",
              "  <tbody>\n",
              "    <tr>\n",
              "      <th>4</th>\n",
              "      <td>6314302</td>\n",
              "      <td>Sambo Kojin</td>\n",
              "      <td>Third Floor, Mega Atrium, SM Megamall, Ortigas, Mandaluyong City</td>\n",
              "      <td>4.800000</td>\n",
              "    </tr>\n",
              "    <tr>\n",
              "      <th>14</th>\n",
              "      <td>6314605</td>\n",
              "      <td>Sodam Korean Restaurant</td>\n",
              "      <td>17 J. Abad Santos Drive, Little Baguio, San Juan City</td>\n",
              "      <td>4.300000</td>\n",
              "    </tr>\n",
              "    <tr>\n",
              "      <th>18</th>\n",
              "      <td>18255654</td>\n",
              "      <td>Hobing Korean Dessert Cafe</td>\n",
              "      <td>Third Floor, BGC Stopover Pavillion, Rizal Drive Corner 31st Street, Bonifacio Global City, Taguig City</td>\n",
              "      <td>4.500000</td>\n",
              "    </tr>\n",
              "    <tr>\n",
              "      <th>103</th>\n",
              "      <td>17293163</td>\n",
              "      <td>Choo Choo Eastside</td>\n",
              "      <td>1055 Gaines School Rd Ste 100, Athens, GA 30605</td>\n",
              "      <td>3.900000</td>\n",
              "    </tr>\n",
              "    <tr>\n",
              "      <th>1398</th>\n",
              "      <td>18281982</td>\n",
              "      <td>Bamboo Boat</td>\n",
              "      <td>Behind Supermart 2, DLF Phase 4, Gurgaon</td>\n",
              "      <td>3.800000</td>\n",
              "    </tr>\n",
              "    <tr>\n",
              "      <th>1456</th>\n",
              "      <td>9773</td>\n",
              "      <td>Di Miso</td>\n",
              "      <td>11, Ground Floor, Global Foyer Mall, Golf Course Road, Gurgaon</td>\n",
              "      <td>3.600000</td>\n",
              "    </tr>\n",
              "    <tr>\n",
              "      <th>1624</th>\n",
              "      <td>18391155</td>\n",
              "      <td>Hahn's Kitchen</td>\n",
              "      <td>One Horizon Centre, Golf Course Road, Gurgaon</td>\n",
              "      <td>3.200000</td>\n",
              "    </tr>\n",
              "    <tr>\n",
              "      <th>1686</th>\n",
              "      <td>3243</td>\n",
              "      <td>K2 Restaurant</td>\n",
              "      <td>3rd Floor, Plaza Mall, MG Road, Gurgaon</td>\n",
              "      <td>3.000000</td>\n",
              "    </tr>\n",
              "    <tr>\n",
              "      <th>1854</th>\n",
              "      <td>3575</td>\n",
              "      <td>Gung The Palace</td>\n",
              "      <td>SCO 28, Main Market, Sector 29, Gurgaon</td>\n",
              "      <td>4.200000</td>\n",
              "    </tr>\n",
              "    <tr>\n",
              "      <th>2673</th>\n",
              "      <td>3295</td>\n",
              "      <td>Restaurant De Seoul</td>\n",
              "      <td>3rd Floor, C Block, Ansal Plaza Mall, Near Siri Fort, Khel Gaon Marg, New Delhi</td>\n",
              "      <td>3.600000</td>\n",
              "    </tr>\n",
              "    <tr>\n",
              "      <th>2971</th>\n",
              "      <td>18245298</td>\n",
              "      <td>Boa Village</td>\n",
              "      <td>13, Alipur Road, Civil Lines, New Delhi</td>\n",
              "      <td>4.000000</td>\n",
              "    </tr>\n",
              "    <tr>\n",
              "      <th>3283</th>\n",
              "      <td>7681</td>\n",
              "      <td>Korea Restaurant</td>\n",
              "      <td>1612-G/F, Outram Line, Kingsway Camp, Delhi University-GTB Nagar, New Delhi</td>\n",
              "      <td>3.000000</td>\n",
              "    </tr>\n",
              "    <tr>\n",
              "      <th>3795</th>\n",
              "      <td>3400</td>\n",
              "      <td>Gung The Palace</td>\n",
              "      <td>D-1/B, Near Ashirwad Complex, Green Park, New Delhi</td>\n",
              "      <td>3.700000</td>\n",
              "    </tr>\n",
              "    <tr>\n",
              "      <th>3996</th>\n",
              "      <td>422</td>\n",
              "      <td>Chor Bizarre - Hotel Broadway</td>\n",
              "      <td>Hotel Broadway, 4/15/A, Daryaganj, New Delhi</td>\n",
              "      <td>3.900000</td>\n",
              "    </tr>\n",
              "    <tr>\n",
              "      <th>4079</th>\n",
              "      <td>309548</td>\n",
              "      <td>Tian - Asian Cuisine Studio - ITC Maurya</td>\n",
              "      <td>ITC Maurya, Diplomatic Enclave, Chanakyapuri, New Delhi</td>\n",
              "      <td>4.100000</td>\n",
              "    </tr>\n",
              "    <tr>\n",
              "      <th>4872</th>\n",
              "      <td>18466740</td>\n",
              "      <td>K2 Multi Cuisine Restaurant</td>\n",
              "      <td>A-44, 1st Floor, Lajpat Nagar 2, New Delhi</td>\n",
              "      <td>0.000000</td>\n",
              "    </tr>\n",
              "    <tr>\n",
              "      <th>6812</th>\n",
              "      <td>18337779</td>\n",
              "      <td>Kori's</td>\n",
              "      <td>R-62/1, Humayunpur, Safdarjung Enclave, Safdarjung, New Delhi</td>\n",
              "      <td>3.600000</td>\n",
              "    </tr>\n",
              "    <tr>\n",
              "      <th>7060</th>\n",
              "      <td>311103</td>\n",
              "      <td>Bings Cafe</td>\n",
              "      <td>2nd Floor, Select City Walk Mall, Saket, New Delhi</td>\n",
              "      <td>3.900000</td>\n",
              "    </tr>\n",
              "    <tr>\n",
              "      <th>8046</th>\n",
              "      <td>18366022</td>\n",
              "      <td>Chi Asian Cookhouse</td>\n",
              "      <td>F-456, 3rd Floor, DLF Mall of India, Sector 18, Noida</td>\n",
              "      <td>3.900000</td>\n",
              "    </tr>\n",
              "    <tr>\n",
              "      <th>9134</th>\n",
              "      <td>3700387</td>\n",
              "      <td>Bay of Buddha -  The Promenade</td>\n",
              "      <td>The Promenade, 23, Goubert Avenue, White Town, Puducherry</td>\n",
              "      <td>3.800000</td>\n",
              "    </tr>\n",
              "    <tr>\n",
              "      <th>9272</th>\n",
              "      <td>18425821</td>\n",
              "      <td>OJJU</td>\n",
              "      <td>Gandaria City, Lantai Upper Ground, Jl. Sultan Iskandar Muda</td>\n",
              "      <td>3.900000</td>\n",
              "    </tr>\n",
              "  </tbody>\n",
              "</table>\n",
              "</div>\n",
              "      <button class=\"colab-df-convert\" onclick=\"convertToInteractive('df-2fef2f51-17dd-4ace-8665-a32681732ac1')\"\n",
              "              title=\"Convert this dataframe to an interactive table.\"\n",
              "              style=\"display:none;\">\n",
              "        \n",
              "  <svg xmlns=\"http://www.w3.org/2000/svg\" height=\"24px\"viewBox=\"0 0 24 24\"\n",
              "       width=\"24px\">\n",
              "    <path d=\"M0 0h24v24H0V0z\" fill=\"none\"/>\n",
              "    <path d=\"M18.56 5.44l.94 2.06.94-2.06 2.06-.94-2.06-.94-.94-2.06-.94 2.06-2.06.94zm-11 1L8.5 8.5l.94-2.06 2.06-.94-2.06-.94L8.5 2.5l-.94 2.06-2.06.94zm10 10l.94 2.06.94-2.06 2.06-.94-2.06-.94-.94-2.06-.94 2.06-2.06.94z\"/><path d=\"M17.41 7.96l-1.37-1.37c-.4-.4-.92-.59-1.43-.59-.52 0-1.04.2-1.43.59L10.3 9.45l-7.72 7.72c-.78.78-.78 2.05 0 2.83L4 21.41c.39.39.9.59 1.41.59.51 0 1.02-.2 1.41-.59l7.78-7.78 2.81-2.81c.8-.78.8-2.07 0-2.86zM5.41 20L4 18.59l7.72-7.72 1.47 1.35L5.41 20z\"/>\n",
              "  </svg>\n",
              "      </button>\n",
              "      \n",
              "  <style>\n",
              "    .colab-df-container {\n",
              "      display:flex;\n",
              "      flex-wrap:wrap;\n",
              "      gap: 12px;\n",
              "    }\n",
              "\n",
              "    .colab-df-convert {\n",
              "      background-color: #E8F0FE;\n",
              "      border: none;\n",
              "      border-radius: 50%;\n",
              "      cursor: pointer;\n",
              "      display: none;\n",
              "      fill: #1967D2;\n",
              "      height: 32px;\n",
              "      padding: 0 0 0 0;\n",
              "      width: 32px;\n",
              "    }\n",
              "\n",
              "    .colab-df-convert:hover {\n",
              "      background-color: #E2EBFA;\n",
              "      box-shadow: 0px 1px 2px rgba(60, 64, 67, 0.3), 0px 1px 3px 1px rgba(60, 64, 67, 0.15);\n",
              "      fill: #174EA6;\n",
              "    }\n",
              "\n",
              "    [theme=dark] .colab-df-convert {\n",
              "      background-color: #3B4455;\n",
              "      fill: #D2E3FC;\n",
              "    }\n",
              "\n",
              "    [theme=dark] .colab-df-convert:hover {\n",
              "      background-color: #434B5C;\n",
              "      box-shadow: 0px 1px 3px 1px rgba(0, 0, 0, 0.15);\n",
              "      filter: drop-shadow(0px 1px 2px rgba(0, 0, 0, 0.3));\n",
              "      fill: #FFFFFF;\n",
              "    }\n",
              "  </style>\n",
              "\n",
              "      <script>\n",
              "        const buttonEl =\n",
              "          document.querySelector('#df-2fef2f51-17dd-4ace-8665-a32681732ac1 button.colab-df-convert');\n",
              "        buttonEl.style.display =\n",
              "          google.colab.kernel.accessAllowed ? 'block' : 'none';\n",
              "\n",
              "        async function convertToInteractive(key) {\n",
              "          const element = document.querySelector('#df-2fef2f51-17dd-4ace-8665-a32681732ac1');\n",
              "          const dataTable =\n",
              "            await google.colab.kernel.invokeFunction('convertToInteractive',\n",
              "                                                     [key], {});\n",
              "          if (!dataTable) return;\n",
              "\n",
              "          const docLinkHtml = 'Like what you see? Visit the ' +\n",
              "            '<a target=\"_blank\" href=https://colab.research.google.com/notebooks/data_table.ipynb>data table notebook</a>'\n",
              "            + ' to learn more about interactive tables.';\n",
              "          element.innerHTML = '';\n",
              "          dataTable['output_type'] = 'display_data';\n",
              "          await google.colab.output.renderOutput(dataTable, element);\n",
              "          const docLink = document.createElement('div');\n",
              "          docLink.innerHTML = docLinkHtml;\n",
              "          element.appendChild(docLink);\n",
              "        }\n",
              "      </script>\n",
              "    </div>\n",
              "  </div>\n",
              "  "
            ]
          },
          "metadata": {},
          "execution_count": 367
        }
      ]
    },
    {
      "cell_type": "markdown",
      "source": [
        "The same way you can group for the multiple features to work on search for best restaurant!! "
      ],
      "metadata": {
        "id": "brCoEOG4U7XN"
      }
    },
    {
      "cell_type": "markdown",
      "source": [
        "Lets make a dataframe and work on Ratings"
      ],
      "metadata": {
        "id": "OQhwPxSSVD-k"
      }
    },
    {
      "cell_type": "code",
      "source": [
        "ratings = df.groupby(['Aggregate rating', 'Rating color', 'Rating text']).size().reset_index().rename(columns={0:'Rating Count'})"
      ],
      "metadata": {
        "id": "LtrcFIMkTK6G"
      },
      "execution_count": null,
      "outputs": []
    },
    {
      "cell_type": "code",
      "source": [
        "ratings"
      ],
      "metadata": {
        "colab": {
          "base_uri": "https://localhost:8080/",
          "height": 1000
        },
        "id": "DqtsjJb_TK8n",
        "outputId": "c5821bb9-7d99-4389-c65a-e5c84440ba7a"
      },
      "execution_count": null,
      "outputs": [
        {
          "output_type": "execute_result",
          "data": {
            "text/plain": [
              "    Aggregate rating Rating color Rating text  Rating Count\n",
              "0           0.000000        White   Not rated          2148\n",
              "1           1.800000          Red        Poor             1\n",
              "2           1.900000          Red        Poor             2\n",
              "3           2.000000          Red        Poor             7\n",
              "4           2.100000          Red        Poor            15\n",
              "5           2.200000          Red        Poor            27\n",
              "6           2.300000          Red        Poor            47\n",
              "7           2.400000          Red        Poor            87\n",
              "8           2.500000       Orange     Average           110\n",
              "9           2.600000       Orange     Average           191\n",
              "10          2.700000       Orange     Average           250\n",
              "11          2.800000       Orange     Average           315\n",
              "12          2.900000       Orange     Average           381\n",
              "13          3.000000       Orange     Average           468\n",
              "14          3.100000       Orange     Average           519\n",
              "15          3.200000       Orange     Average           522\n",
              "16          3.300000       Orange     Average           483\n",
              "17          3.400000       Orange     Average           495\n",
              "18          3.500000       Yellow        Good           480\n",
              "19          3.600000       Yellow        Good           458\n",
              "20          3.700000       Yellow        Good           427\n",
              "21          3.800000       Yellow        Good           399\n",
              "22          3.900000       Yellow        Good           332\n",
              "23          4.000000        Green   Very Good           266\n",
              "24          4.100000        Green   Very Good           274\n",
              "25          4.200000        Green   Very Good           221\n",
              "26          4.300000        Green   Very Good           174\n",
              "27          4.400000        Green   Very Good           143\n",
              "28          4.500000   Dark Green   Excellent            95\n",
              "29          4.600000   Dark Green   Excellent            78\n",
              "30          4.700000   Dark Green   Excellent            41\n",
              "31          4.800000   Dark Green   Excellent            25\n",
              "32          4.900000   Dark Green   Excellent            61"
            ],
            "text/html": [
              "\n",
              "  <div id=\"df-cc860b7f-6c40-4c20-9016-b755526d22b7\">\n",
              "    <div class=\"colab-df-container\">\n",
              "      <div>\n",
              "<style scoped>\n",
              "    .dataframe tbody tr th:only-of-type {\n",
              "        vertical-align: middle;\n",
              "    }\n",
              "\n",
              "    .dataframe tbody tr th {\n",
              "        vertical-align: top;\n",
              "    }\n",
              "\n",
              "    .dataframe thead th {\n",
              "        text-align: right;\n",
              "    }\n",
              "</style>\n",
              "<table border=\"1\" class=\"dataframe\">\n",
              "  <thead>\n",
              "    <tr style=\"text-align: right;\">\n",
              "      <th></th>\n",
              "      <th>Aggregate rating</th>\n",
              "      <th>Rating color</th>\n",
              "      <th>Rating text</th>\n",
              "      <th>Rating Count</th>\n",
              "    </tr>\n",
              "  </thead>\n",
              "  <tbody>\n",
              "    <tr>\n",
              "      <th>0</th>\n",
              "      <td>0.000000</td>\n",
              "      <td>White</td>\n",
              "      <td>Not rated</td>\n",
              "      <td>2148</td>\n",
              "    </tr>\n",
              "    <tr>\n",
              "      <th>1</th>\n",
              "      <td>1.800000</td>\n",
              "      <td>Red</td>\n",
              "      <td>Poor</td>\n",
              "      <td>1</td>\n",
              "    </tr>\n",
              "    <tr>\n",
              "      <th>2</th>\n",
              "      <td>1.900000</td>\n",
              "      <td>Red</td>\n",
              "      <td>Poor</td>\n",
              "      <td>2</td>\n",
              "    </tr>\n",
              "    <tr>\n",
              "      <th>3</th>\n",
              "      <td>2.000000</td>\n",
              "      <td>Red</td>\n",
              "      <td>Poor</td>\n",
              "      <td>7</td>\n",
              "    </tr>\n",
              "    <tr>\n",
              "      <th>4</th>\n",
              "      <td>2.100000</td>\n",
              "      <td>Red</td>\n",
              "      <td>Poor</td>\n",
              "      <td>15</td>\n",
              "    </tr>\n",
              "    <tr>\n",
              "      <th>5</th>\n",
              "      <td>2.200000</td>\n",
              "      <td>Red</td>\n",
              "      <td>Poor</td>\n",
              "      <td>27</td>\n",
              "    </tr>\n",
              "    <tr>\n",
              "      <th>6</th>\n",
              "      <td>2.300000</td>\n",
              "      <td>Red</td>\n",
              "      <td>Poor</td>\n",
              "      <td>47</td>\n",
              "    </tr>\n",
              "    <tr>\n",
              "      <th>7</th>\n",
              "      <td>2.400000</td>\n",
              "      <td>Red</td>\n",
              "      <td>Poor</td>\n",
              "      <td>87</td>\n",
              "    </tr>\n",
              "    <tr>\n",
              "      <th>8</th>\n",
              "      <td>2.500000</td>\n",
              "      <td>Orange</td>\n",
              "      <td>Average</td>\n",
              "      <td>110</td>\n",
              "    </tr>\n",
              "    <tr>\n",
              "      <th>9</th>\n",
              "      <td>2.600000</td>\n",
              "      <td>Orange</td>\n",
              "      <td>Average</td>\n",
              "      <td>191</td>\n",
              "    </tr>\n",
              "    <tr>\n",
              "      <th>10</th>\n",
              "      <td>2.700000</td>\n",
              "      <td>Orange</td>\n",
              "      <td>Average</td>\n",
              "      <td>250</td>\n",
              "    </tr>\n",
              "    <tr>\n",
              "      <th>11</th>\n",
              "      <td>2.800000</td>\n",
              "      <td>Orange</td>\n",
              "      <td>Average</td>\n",
              "      <td>315</td>\n",
              "    </tr>\n",
              "    <tr>\n",
              "      <th>12</th>\n",
              "      <td>2.900000</td>\n",
              "      <td>Orange</td>\n",
              "      <td>Average</td>\n",
              "      <td>381</td>\n",
              "    </tr>\n",
              "    <tr>\n",
              "      <th>13</th>\n",
              "      <td>3.000000</td>\n",
              "      <td>Orange</td>\n",
              "      <td>Average</td>\n",
              "      <td>468</td>\n",
              "    </tr>\n",
              "    <tr>\n",
              "      <th>14</th>\n",
              "      <td>3.100000</td>\n",
              "      <td>Orange</td>\n",
              "      <td>Average</td>\n",
              "      <td>519</td>\n",
              "    </tr>\n",
              "    <tr>\n",
              "      <th>15</th>\n",
              "      <td>3.200000</td>\n",
              "      <td>Orange</td>\n",
              "      <td>Average</td>\n",
              "      <td>522</td>\n",
              "    </tr>\n",
              "    <tr>\n",
              "      <th>16</th>\n",
              "      <td>3.300000</td>\n",
              "      <td>Orange</td>\n",
              "      <td>Average</td>\n",
              "      <td>483</td>\n",
              "    </tr>\n",
              "    <tr>\n",
              "      <th>17</th>\n",
              "      <td>3.400000</td>\n",
              "      <td>Orange</td>\n",
              "      <td>Average</td>\n",
              "      <td>495</td>\n",
              "    </tr>\n",
              "    <tr>\n",
              "      <th>18</th>\n",
              "      <td>3.500000</td>\n",
              "      <td>Yellow</td>\n",
              "      <td>Good</td>\n",
              "      <td>480</td>\n",
              "    </tr>\n",
              "    <tr>\n",
              "      <th>19</th>\n",
              "      <td>3.600000</td>\n",
              "      <td>Yellow</td>\n",
              "      <td>Good</td>\n",
              "      <td>458</td>\n",
              "    </tr>\n",
              "    <tr>\n",
              "      <th>20</th>\n",
              "      <td>3.700000</td>\n",
              "      <td>Yellow</td>\n",
              "      <td>Good</td>\n",
              "      <td>427</td>\n",
              "    </tr>\n",
              "    <tr>\n",
              "      <th>21</th>\n",
              "      <td>3.800000</td>\n",
              "      <td>Yellow</td>\n",
              "      <td>Good</td>\n",
              "      <td>399</td>\n",
              "    </tr>\n",
              "    <tr>\n",
              "      <th>22</th>\n",
              "      <td>3.900000</td>\n",
              "      <td>Yellow</td>\n",
              "      <td>Good</td>\n",
              "      <td>332</td>\n",
              "    </tr>\n",
              "    <tr>\n",
              "      <th>23</th>\n",
              "      <td>4.000000</td>\n",
              "      <td>Green</td>\n",
              "      <td>Very Good</td>\n",
              "      <td>266</td>\n",
              "    </tr>\n",
              "    <tr>\n",
              "      <th>24</th>\n",
              "      <td>4.100000</td>\n",
              "      <td>Green</td>\n",
              "      <td>Very Good</td>\n",
              "      <td>274</td>\n",
              "    </tr>\n",
              "    <tr>\n",
              "      <th>25</th>\n",
              "      <td>4.200000</td>\n",
              "      <td>Green</td>\n",
              "      <td>Very Good</td>\n",
              "      <td>221</td>\n",
              "    </tr>\n",
              "    <tr>\n",
              "      <th>26</th>\n",
              "      <td>4.300000</td>\n",
              "      <td>Green</td>\n",
              "      <td>Very Good</td>\n",
              "      <td>174</td>\n",
              "    </tr>\n",
              "    <tr>\n",
              "      <th>27</th>\n",
              "      <td>4.400000</td>\n",
              "      <td>Green</td>\n",
              "      <td>Very Good</td>\n",
              "      <td>143</td>\n",
              "    </tr>\n",
              "    <tr>\n",
              "      <th>28</th>\n",
              "      <td>4.500000</td>\n",
              "      <td>Dark Green</td>\n",
              "      <td>Excellent</td>\n",
              "      <td>95</td>\n",
              "    </tr>\n",
              "    <tr>\n",
              "      <th>29</th>\n",
              "      <td>4.600000</td>\n",
              "      <td>Dark Green</td>\n",
              "      <td>Excellent</td>\n",
              "      <td>78</td>\n",
              "    </tr>\n",
              "    <tr>\n",
              "      <th>30</th>\n",
              "      <td>4.700000</td>\n",
              "      <td>Dark Green</td>\n",
              "      <td>Excellent</td>\n",
              "      <td>41</td>\n",
              "    </tr>\n",
              "    <tr>\n",
              "      <th>31</th>\n",
              "      <td>4.800000</td>\n",
              "      <td>Dark Green</td>\n",
              "      <td>Excellent</td>\n",
              "      <td>25</td>\n",
              "    </tr>\n",
              "    <tr>\n",
              "      <th>32</th>\n",
              "      <td>4.900000</td>\n",
              "      <td>Dark Green</td>\n",
              "      <td>Excellent</td>\n",
              "      <td>61</td>\n",
              "    </tr>\n",
              "  </tbody>\n",
              "</table>\n",
              "</div>\n",
              "      <button class=\"colab-df-convert\" onclick=\"convertToInteractive('df-cc860b7f-6c40-4c20-9016-b755526d22b7')\"\n",
              "              title=\"Convert this dataframe to an interactive table.\"\n",
              "              style=\"display:none;\">\n",
              "        \n",
              "  <svg xmlns=\"http://www.w3.org/2000/svg\" height=\"24px\"viewBox=\"0 0 24 24\"\n",
              "       width=\"24px\">\n",
              "    <path d=\"M0 0h24v24H0V0z\" fill=\"none\"/>\n",
              "    <path d=\"M18.56 5.44l.94 2.06.94-2.06 2.06-.94-2.06-.94-.94-2.06-.94 2.06-2.06.94zm-11 1L8.5 8.5l.94-2.06 2.06-.94-2.06-.94L8.5 2.5l-.94 2.06-2.06.94zm10 10l.94 2.06.94-2.06 2.06-.94-2.06-.94-.94-2.06-.94 2.06-2.06.94z\"/><path d=\"M17.41 7.96l-1.37-1.37c-.4-.4-.92-.59-1.43-.59-.52 0-1.04.2-1.43.59L10.3 9.45l-7.72 7.72c-.78.78-.78 2.05 0 2.83L4 21.41c.39.39.9.59 1.41.59.51 0 1.02-.2 1.41-.59l7.78-7.78 2.81-2.81c.8-.78.8-2.07 0-2.86zM5.41 20L4 18.59l7.72-7.72 1.47 1.35L5.41 20z\"/>\n",
              "  </svg>\n",
              "      </button>\n",
              "      \n",
              "  <style>\n",
              "    .colab-df-container {\n",
              "      display:flex;\n",
              "      flex-wrap:wrap;\n",
              "      gap: 12px;\n",
              "    }\n",
              "\n",
              "    .colab-df-convert {\n",
              "      background-color: #E8F0FE;\n",
              "      border: none;\n",
              "      border-radius: 50%;\n",
              "      cursor: pointer;\n",
              "      display: none;\n",
              "      fill: #1967D2;\n",
              "      height: 32px;\n",
              "      padding: 0 0 0 0;\n",
              "      width: 32px;\n",
              "    }\n",
              "\n",
              "    .colab-df-convert:hover {\n",
              "      background-color: #E2EBFA;\n",
              "      box-shadow: 0px 1px 2px rgba(60, 64, 67, 0.3), 0px 1px 3px 1px rgba(60, 64, 67, 0.15);\n",
              "      fill: #174EA6;\n",
              "    }\n",
              "\n",
              "    [theme=dark] .colab-df-convert {\n",
              "      background-color: #3B4455;\n",
              "      fill: #D2E3FC;\n",
              "    }\n",
              "\n",
              "    [theme=dark] .colab-df-convert:hover {\n",
              "      background-color: #434B5C;\n",
              "      box-shadow: 0px 1px 3px 1px rgba(0, 0, 0, 0.15);\n",
              "      filter: drop-shadow(0px 1px 2px rgba(0, 0, 0, 0.3));\n",
              "      fill: #FFFFFF;\n",
              "    }\n",
              "  </style>\n",
              "\n",
              "      <script>\n",
              "        const buttonEl =\n",
              "          document.querySelector('#df-cc860b7f-6c40-4c20-9016-b755526d22b7 button.colab-df-convert');\n",
              "        buttonEl.style.display =\n",
              "          google.colab.kernel.accessAllowed ? 'block' : 'none';\n",
              "\n",
              "        async function convertToInteractive(key) {\n",
              "          const element = document.querySelector('#df-cc860b7f-6c40-4c20-9016-b755526d22b7');\n",
              "          const dataTable =\n",
              "            await google.colab.kernel.invokeFunction('convertToInteractive',\n",
              "                                                     [key], {});\n",
              "          if (!dataTable) return;\n",
              "\n",
              "          const docLinkHtml = 'Like what you see? Visit the ' +\n",
              "            '<a target=\"_blank\" href=https://colab.research.google.com/notebooks/data_table.ipynb>data table notebook</a>'\n",
              "            + ' to learn more about interactive tables.';\n",
              "          element.innerHTML = '';\n",
              "          dataTable['output_type'] = 'display_data';\n",
              "          await google.colab.output.renderOutput(dataTable, element);\n",
              "          const docLink = document.createElement('div');\n",
              "          docLink.innerHTML = docLinkHtml;\n",
              "          element.appendChild(docLink);\n",
              "        }\n",
              "      </script>\n",
              "    </div>\n",
              "  </div>\n",
              "  "
            ]
          },
          "metadata": {},
          "execution_count": 369
        }
      ]
    },
    {
      "cell_type": "markdown",
      "source": [
        "\n",
        "\n",
        "### Lot of people have not rated for the service!! \n",
        "\n",
        "## Observations\n",
        "\n",
        "- If the rating is between 4.5 to 4.9 --> Excellent\n",
        "- If the rating is between 4.0 to 3.4 --> very good\n",
        "- If the rating is between 3.5 to 3.9 --> good\n",
        "- If the rating is between 3.0 to 3.4 --> average\n",
        "- If the rating is between 2.5 to 2.9 --> average\n",
        "- If the rating is between 2.0 to 2.4 --> poor"
      ],
      "metadata": {
        "id": "uVOfthIeVPNz"
      }
    },
    {
      "cell_type": "code",
      "source": [
        "plt.rcParams['figure.figsize'] = (12,6)\n",
        "sns.barplot(x='Aggregate rating',y='Rating Count',data=ratings)\n",
        "plt.show()"
      ],
      "metadata": {
        "colab": {
          "base_uri": "https://localhost:8080/",
          "height": 394
        },
        "id": "vMrDAHUWVKJ1",
        "outputId": "36c6f25a-5d01-472f-f20a-e5bbbeb5225f"
      },
      "execution_count": null,
      "outputs": [
        {
          "output_type": "display_data",
          "data": {
            "text/plain": [
              "<Figure size 864x432 with 1 Axes>"
            ],
            "image/png": "[encoded data removed]"
          },
          "metadata": {}
        }
      ]
    },
    {
      "cell_type": "markdown",
      "source": [
        "## Observations:\n",
        "1. Not Rating has highest counts\n",
        "2. Maximum rating is between 2.5 to 3.4"
      ],
      "metadata": {
        "id": "Cl_O0gD3VvMS"
      }
    },
    {
      "cell_type": "markdown",
      "source": [
        "2. Which restaurant has the highest Rating?"
      ],
      "metadata": {
        "id": "EJ723WUiV9Au"
      }
    },
    {
      "cell_type": "code",
      "source": [
        "df[df['Aggregate rating'] == 4.9]['Restaurant Name']"
      ],
      "metadata": {
        "colab": {
          "base_uri": "https://localhost:8080/"
        },
        "id": "r0nCFti4Vdo9",
        "outputId": "6ccb49ec-a53a-45a6-e53e-29dbc03388a7"
      },
      "execution_count": null,
      "outputs": [
        {
          "output_type": "execute_result",
          "data": {
            "text/plain": [
              "3                                           Ooma\n",
              "8       Spiral - Sofitel Philippine Plaza Manila\n",
              "10                              Silantro Fil-Mex\n",
              "39                                    Coco Bambu\n",
              "48                            Braseiro da Gíçvea\n",
              "                          ...                   \n",
              "9475              Restaurant Mosaic @ The Orient\n",
              "9505                            Ministry of Crab\n",
              "9515                                Gaga Manjero\n",
              "9529                                   Starbucks\n",
              "9531                            Draft Gastro Pub\n",
              "Name: Restaurant Name, Length: 61, dtype: object"
            ]
          },
          "metadata": {},
          "execution_count": 371
        }
      ]
    },
    {
      "cell_type": "markdown",
      "source": [
        "This way, we need to frame insights.  "
      ],
      "metadata": {
        "id": "2wnKNN10XdA_"
      }
    },
    {
      "cell_type": "markdown",
      "source": [
        "As we have huge feature data!!, We shall remove a few features. <br>\n",
        "We have City, Longitude and latitude ---> Lets Remove Address, Locality, Locality Verbose as they are almost similar <br>\n",
        "We have Country ---> Lets Remove Country Code <br>\n",
        "We shall also remove availability_cuisines"
      ],
      "metadata": {
        "id": "XVvJ0C6Ha9I6"
      }
    },
    {
      "cell_type": "code",
      "source": [
        "df.drop(['Address','Locality', 'Locality Verbose','Availability_Cuisine','Country Code'],axis=1,inplace=True)"
      ],
      "metadata": {
        "id": "foxSBqCXbZDU"
      },
      "execution_count": null,
      "outputs": []
    },
    {
      "cell_type": "code",
      "source": [
        "df.columns"
      ],
      "metadata": {
        "colab": {
          "base_uri": "https://localhost:8080/"
        },
        "id": "rTriNaZra8qY",
        "outputId": "4f2c7b9e-cd1d-41a0-ef70-aa22c1bb72ff"
      },
      "execution_count": null,
      "outputs": [
        {
          "output_type": "execute_result",
          "data": {
            "text/plain": [
              "Index(['Restaurant ID', 'Restaurant Name', 'City', 'Longitude', 'Latitude',\n",
              "       'Cuisines', 'Average Cost for two', 'Currency', 'Has Table booking',\n",
              "       'Has Online delivery', 'Is delivering now', 'Switch to order menu',\n",
              "       'Price range', 'Aggregate rating', 'Rating color', 'Rating text',\n",
              "       'Votes', 'Country'],\n",
              "      dtype='object')"
            ]
          },
          "metadata": {},
          "execution_count": 373
        }
      ]
    },
    {
      "cell_type": "markdown",
      "source": [
        "Lets handle categorical values.\n",
        "To get them, Lets first categorize every feature to numerical and categorical feature.<br>\n",
        "Here, we are using function _get_numeric_data() to get the numerical features. \n",
        "Removing them from columns list, we get categorical list."
      ],
      "metadata": {
        "id": "3tZn-Mckay90"
      }
    },
    {
      "cell_type": "code",
      "source": [
        "cols = df.columns\n",
        "numerical_cols = df._get_numeric_data().columns\n",
        "numerical_cols"
      ],
      "metadata": {
        "colab": {
          "base_uri": "https://localhost:8080/"
        },
        "id": "jdF3zB6tcCYp",
        "outputId": "33ca4f4c-d06a-48b1-db31-c0c26b837af1"
      },
      "execution_count": null,
      "outputs": [
        {
          "output_type": "execute_result",
          "data": {
            "text/plain": [
              "Index(['Restaurant ID', 'Longitude', 'Latitude', 'Average Cost for two',\n",
              "       'Price range', 'Aggregate rating', 'Votes'],\n",
              "      dtype='object')"
            ]
          },
          "metadata": {},
          "execution_count": 374
        }
      ]
    },
    {
      "cell_type": "code",
      "source": [
        "categorical_cols = list(set(cols) - set(numerical_cols))\n",
        "categorical_cols"
      ],
      "metadata": {
        "colab": {
          "base_uri": "https://localhost:8080/"
        },
        "id": "II-Yf9ogcCa5",
        "outputId": "f2f33d89-122b-489a-8f29-2d9f8b87fc4d"
      },
      "execution_count": null,
      "outputs": [
        {
          "output_type": "execute_result",
          "data": {
            "text/plain": [
              "['Is delivering now',\n",
              " 'Currency',\n",
              " 'Rating color',\n",
              " 'City',\n",
              " 'Cuisines',\n",
              " 'Country',\n",
              " 'Has Table booking',\n",
              " 'Rating text',\n",
              " 'Restaurant Name',\n",
              " 'Switch to order menu',\n",
              " 'Has Online delivery']"
            ]
          },
          "metadata": {},
          "execution_count": 375
        }
      ]
    },
    {
      "cell_type": "code",
      "source": [
        "City_count = df['City'].value_counts()\n",
        "City_count"
      ],
      "metadata": {
        "colab": {
          "base_uri": "https://localhost:8080/"
        },
        "id": "9dUjtXwWtJTg",
        "outputId": "9cae716d-0264-4e2b-c925-f01bfcad6b5b"
      },
      "execution_count": null,
      "outputs": [
        {
          "output_type": "execute_result",
          "data": {
            "text/plain": [
              "New Delhi         5473\n",
              "Gurgaon           1118\n",
              "Noida             1080\n",
              "Faridabad          251\n",
              "Ghaziabad           25\n",
              "                  ... \n",
              "Lincoln              1\n",
              "Lakeview             1\n",
              "Lakes Entrance       1\n",
              "Inverloch            1\n",
              "Panchkula            1\n",
              "Name: City, Length: 140, dtype: int64"
            ]
          },
          "metadata": {},
          "execution_count": 376
        }
      ]
    },
    {
      "cell_type": "code",
      "source": [
        "low_city_count = City_count[City_count<25]"
      ],
      "metadata": {
        "id": "Y1EUMA9yuhHK"
      },
      "execution_count": null,
      "outputs": []
    },
    {
      "cell_type": "code",
      "source": [
        "df['City'] = df['City'].apply(lambda x: 'other' if x in low_city_count else x)\n",
        "df.head()"
      ],
      "metadata": {
        "colab": {
          "base_uri": "https://localhost:8080/",
          "height": 461
        },
        "id": "DooHMaAxuhJn",
        "outputId": "a45e6b92-ece0-4ce6-841f-6fb32f6ce42f"
      },
      "execution_count": null,
      "outputs": [
        {
          "output_type": "execute_result",
          "data": {
            "text/plain": [
              "   Restaurant ID         Restaurant Name   City  Longitude  Latitude  \\\n",
              "0        6317637        Le Petit Souffle  other 121.027535 14.565443   \n",
              "1        6304287        Izakaya Kikufuji  other 121.014101 14.553708   \n",
              "2        6300002  Heat - Edsa Shangri-La  other 121.056831 14.581404   \n",
              "3        6318506                    Ooma  other 121.056475 14.585318   \n",
              "4        6314302             Sambo Kojin  other 121.057508 14.584450   \n",
              "\n",
              "                           Cuisines  Average Cost for two          Currency  \\\n",
              "0        French, Japanese, Desserts                  1100  Botswana Pula(P)   \n",
              "1                          Japanese                  1200  Botswana Pula(P)   \n",
              "2  Seafood, Asian, Filipino, Indian                  4000  Botswana Pula(P)   \n",
              "3                   Japanese, Sushi                  1500  Botswana Pula(P)   \n",
              "4                  Japanese, Korean                  1500  Botswana Pula(P)   \n",
              "\n",
              "  Has Table booking Has Online delivery Is delivering now  \\\n",
              "0               Yes                  No                No   \n",
              "1               Yes                  No                No   \n",
              "2               Yes                  No                No   \n",
              "3                No                  No                No   \n",
              "4               Yes                  No                No   \n",
              "\n",
              "  Switch to order menu  Price range  Aggregate rating Rating color  \\\n",
              "0                   No            3          4.800000   Dark Green   \n",
              "1                   No            3          4.500000   Dark Green   \n",
              "2                   No            4          4.400000        Green   \n",
              "3                   No            4          4.900000   Dark Green   \n",
              "4                   No            4          4.800000   Dark Green   \n",
              "\n",
              "  Rating text  Votes      Country  \n",
              "0   Excellent    314  Phillipines  \n",
              "1   Excellent    591  Phillipines  \n",
              "2   Very Good    270  Phillipines  \n",
              "3   Excellent    365  Phillipines  \n",
              "4   Excellent    229  Phillipines  "
            ],
            "text/html": [
              "\n",
              "  <div id=\"df-daf7057b-1366-4260-81a0-6364c1404cf6\">\n",
              "    <div class=\"colab-df-container\">\n",
              "      <div>\n",
              "<style scoped>\n",
              "    .dataframe tbody tr th:only-of-type {\n",
              "        vertical-align: middle;\n",
              "    }\n",
              "\n",
              "    .dataframe tbody tr th {\n",
              "        vertical-align: top;\n",
              "    }\n",
              "\n",
              "    .dataframe thead th {\n",
              "        text-align: right;\n",
              "    }\n",
              "</style>\n",
              "<table border=\"1\" class=\"dataframe\">\n",
              "  <thead>\n",
              "    <tr style=\"text-align: right;\">\n",
              "      <th></th>\n",
              "      <th>Restaurant ID</th>\n",
              "      <th>Restaurant Name</th>\n",
              "      <th>City</th>\n",
              "      <th>Longitude</th>\n",
              "      <th>Latitude</th>\n",
              "      <th>Cuisines</th>\n",
              "      <th>Average Cost for two</th>\n",
              "      <th>Currency</th>\n",
              "      <th>Has Table booking</th>\n",
              "      <th>Has Online delivery</th>\n",
              "      <th>Is delivering now</th>\n",
              "      <th>Switch to order menu</th>\n",
              "      <th>Price range</th>\n",
              "      <th>Aggregate rating</th>\n",
              "      <th>Rating color</th>\n",
              "      <th>Rating text</th>\n",
              "      <th>Votes</th>\n",
              "      <th>Country</th>\n",
              "    </tr>\n",
              "  </thead>\n",
              "  <tbody>\n",
              "    <tr>\n",
              "      <th>0</th>\n",
              "      <td>6317637</td>\n",
              "      <td>Le Petit Souffle</td>\n",
              "      <td>other</td>\n",
              "      <td>121.027535</td>\n",
              "      <td>14.565443</td>\n",
              "      <td>French, Japanese, Desserts</td>\n",
              "      <td>1100</td>\n",
              "      <td>Botswana Pula(P)</td>\n",
              "      <td>Yes</td>\n",
              "      <td>No</td>\n",
              "      <td>No</td>\n",
              "      <td>No</td>\n",
              "      <td>3</td>\n",
              "      <td>4.800000</td>\n",
              "      <td>Dark Green</td>\n",
              "      <td>Excellent</td>\n",
              "      <td>314</td>\n",
              "      <td>Phillipines</td>\n",
              "    </tr>\n",
              "    <tr>\n",
              "      <th>1</th>\n",
              "      <td>6304287</td>\n",
              "      <td>Izakaya Kikufuji</td>\n",
              "      <td>other</td>\n",
              "      <td>121.014101</td>\n",
              "      <td>14.553708</td>\n",
              "      <td>Japanese</td>\n",
              "      <td>1200</td>\n",
              "      <td>Botswana Pula(P)</td>\n",
              "      <td>Yes</td>\n",
              "      <td>No</td>\n",
              "      <td>No</td>\n",
              "      <td>No</td>\n",
              "      <td>3</td>\n",
              "      <td>4.500000</td>\n",
              "      <td>Dark Green</td>\n",
              "      <td>Excellent</td>\n",
              "      <td>591</td>\n",
              "      <td>Phillipines</td>\n",
              "    </tr>\n",
              "    <tr>\n",
              "      <th>2</th>\n",
              "      <td>6300002</td>\n",
              "      <td>Heat - Edsa Shangri-La</td>\n",
              "      <td>other</td>\n",
              "      <td>121.056831</td>\n",
              "      <td>14.581404</td>\n",
              "      <td>Seafood, Asian, Filipino, Indian</td>\n",
              "      <td>4000</td>\n",
              "      <td>Botswana Pula(P)</td>\n",
              "      <td>Yes</td>\n",
              "      <td>No</td>\n",
              "      <td>No</td>\n",
              "      <td>No</td>\n",
              "      <td>4</td>\n",
              "      <td>4.400000</td>\n",
              "      <td>Green</td>\n",
              "      <td>Very Good</td>\n",
              "      <td>270</td>\n",
              "      <td>Phillipines</td>\n",
              "    </tr>\n",
              "    <tr>\n",
              "      <th>3</th>\n",
              "      <td>6318506</td>\n",
              "      <td>Ooma</td>\n",
              "      <td>other</td>\n",
              "      <td>121.056475</td>\n",
              "      <td>14.585318</td>\n",
              "      <td>Japanese, Sushi</td>\n",
              "      <td>1500</td>\n",
              "      <td>Botswana Pula(P)</td>\n",
              "      <td>No</td>\n",
              "      <td>No</td>\n",
              "      <td>No</td>\n",
              "      <td>No</td>\n",
              "      <td>4</td>\n",
              "      <td>4.900000</td>\n",
              "      <td>Dark Green</td>\n",
              "      <td>Excellent</td>\n",
              "      <td>365</td>\n",
              "      <td>Phillipines</td>\n",
              "    </tr>\n",
              "    <tr>\n",
              "      <th>4</th>\n",
              "      <td>6314302</td>\n",
              "      <td>Sambo Kojin</td>\n",
              "      <td>other</td>\n",
              "      <td>121.057508</td>\n",
              "      <td>14.584450</td>\n",
              "      <td>Japanese, Korean</td>\n",
              "      <td>1500</td>\n",
              "      <td>Botswana Pula(P)</td>\n",
              "      <td>Yes</td>\n",
              "      <td>No</td>\n",
              "      <td>No</td>\n",
              "      <td>No</td>\n",
              "      <td>4</td>\n",
              "      <td>4.800000</td>\n",
              "      <td>Dark Green</td>\n",
              "      <td>Excellent</td>\n",
              "      <td>229</td>\n",
              "      <td>Phillipines</td>\n",
              "    </tr>\n",
              "  </tbody>\n",
              "</table>\n",
              "</div>\n",
              "      <button class=\"colab-df-convert\" onclick=\"convertToInteractive('df-daf7057b-1366-4260-81a0-6364c1404cf6')\"\n",
              "              title=\"Convert this dataframe to an interactive table.\"\n",
              "              style=\"display:none;\">\n",
              "        \n",
              "  <svg xmlns=\"http://www.w3.org/2000/svg\" height=\"24px\"viewBox=\"0 0 24 24\"\n",
              "       width=\"24px\">\n",
              "    <path d=\"M0 0h24v24H0V0z\" fill=\"none\"/>\n",
              "    <path d=\"M18.56 5.44l.94 2.06.94-2.06 2.06-.94-2.06-.94-.94-2.06-.94 2.06-2.06.94zm-11 1L8.5 8.5l.94-2.06 2.06-.94-2.06-.94L8.5 2.5l-.94 2.06-2.06.94zm10 10l.94 2.06.94-2.06 2.06-.94-2.06-.94-.94-2.06-.94 2.06-2.06.94z\"/><path d=\"M17.41 7.96l-1.37-1.37c-.4-.4-.92-.59-1.43-.59-.52 0-1.04.2-1.43.59L10.3 9.45l-7.72 7.72c-.78.78-.78 2.05 0 2.83L4 21.41c.39.39.9.59 1.41.59.51 0 1.02-.2 1.41-.59l7.78-7.78 2.81-2.81c.8-.78.8-2.07 0-2.86zM5.41 20L4 18.59l7.72-7.72 1.47 1.35L5.41 20z\"/>\n",
              "  </svg>\n",
              "      </button>\n",
              "      \n",
              "  <style>\n",
              "    .colab-df-container {\n",
              "      display:flex;\n",
              "      flex-wrap:wrap;\n",
              "      gap: 12px;\n",
              "    }\n",
              "\n",
              "    .colab-df-convert {\n",
              "      background-color: #E8F0FE;\n",
              "      border: none;\n",
              "      border-radius: 50%;\n",
              "      cursor: pointer;\n",
              "      display: none;\n",
              "      fill: #1967D2;\n",
              "      height: 32px;\n",
              "      padding: 0 0 0 0;\n",
              "      width: 32px;\n",
              "    }\n",
              "\n",
              "    .colab-df-convert:hover {\n",
              "      background-color: #E2EBFA;\n",
              "      box-shadow: 0px 1px 2px rgba(60, 64, 67, 0.3), 0px 1px 3px 1px rgba(60, 64, 67, 0.15);\n",
              "      fill: #174EA6;\n",
              "    }\n",
              "\n",
              "    [theme=dark] .colab-df-convert {\n",
              "      background-color: #3B4455;\n",
              "      fill: #D2E3FC;\n",
              "    }\n",
              "\n",
              "    [theme=dark] .colab-df-convert:hover {\n",
              "      background-color: #434B5C;\n",
              "      box-shadow: 0px 1px 3px 1px rgba(0, 0, 0, 0.15);\n",
              "      filter: drop-shadow(0px 1px 2px rgba(0, 0, 0, 0.3));\n",
              "      fill: #FFFFFF;\n",
              "    }\n",
              "  </style>\n",
              "\n",
              "      <script>\n",
              "        const buttonEl =\n",
              "          document.querySelector('#df-daf7057b-1366-4260-81a0-6364c1404cf6 button.colab-df-convert');\n",
              "        buttonEl.style.display =\n",
              "          google.colab.kernel.accessAllowed ? 'block' : 'none';\n",
              "\n",
              "        async function convertToInteractive(key) {\n",
              "          const element = document.querySelector('#df-daf7057b-1366-4260-81a0-6364c1404cf6');\n",
              "          const dataTable =\n",
              "            await google.colab.kernel.invokeFunction('convertToInteractive',\n",
              "                                                     [key], {});\n",
              "          if (!dataTable) return;\n",
              "\n",
              "          const docLinkHtml = 'Like what you see? Visit the ' +\n",
              "            '<a target=\"_blank\" href=https://colab.research.google.com/notebooks/data_table.ipynb>data table notebook</a>'\n",
              "            + ' to learn more about interactive tables.';\n",
              "          element.innerHTML = '';\n",
              "          dataTable['output_type'] = 'display_data';\n",
              "          await google.colab.output.renderOutput(dataTable, element);\n",
              "          const docLink = document.createElement('div');\n",
              "          docLink.innerHTML = docLinkHtml;\n",
              "          element.appendChild(docLink);\n",
              "        }\n",
              "      </script>\n",
              "    </div>\n",
              "  </div>\n",
              "  "
            ]
          },
          "metadata": {},
          "execution_count": 378
        }
      ]
    },
    {
      "cell_type": "code",
      "source": [
        "## Lets consider Country , Has Table Booking, Has Online delivery, Rating Text, Switch to order menu, Is delivering Now, Rating Color, "
      ],
      "metadata": {
        "id": "1BKYcGYWZdcC"
      },
      "execution_count": null,
      "outputs": []
    },
    {
      "cell_type": "code",
      "source": [
        "df1 = df[['Country','Has Table booking','Has Online delivery', 'Rating text', 'Switch to order menu', 'Is delivering now', 'Rating color','Price range','Average Cost for two']]\n",
        "fig1 = plt.figure(figsize=(15,30))\n",
        "sns.set(font_scale=1)\n",
        "for i  in enumerate(df1):\n",
        "  plt.subplot(5,3,i[0]+1)\n",
        "  plt.xticks(rotation=30)\n",
        "  ax = sns.countplot(i[1],data=df1).set(title='{}'.format(i[1]))\n",
        "plt.show()"
      ],
      "metadata": {
        "colab": {
          "base_uri": "https://localhost:8080/",
          "height": 1000
        },
        "id": "GfCVOrRxs5BJ",
        "outputId": "a96c9c12-0b9f-463d-eacb-b5c18723eddf"
      },
      "execution_count": null,
      "outputs": [
        {
          "output_type": "display_data",
          "data": {
            "text/plain": [
              "<Figure size 1080x2160 with 9 Axes>"
            ],
            "image/png": "[encoded data removed]"
          },
          "metadata": {}
        }
      ]
    },
    {
      "cell_type": "markdown",
      "source": [
        "It seems switch to menu has all the options as No!! Lets remove it!! <br>\n",
        "There are only 38 yes options in Is delivering now. Lets take it out too!!\n",
        "Most of the hotels don't have table booking!! The rating has to be checked then!!"
      ],
      "metadata": {
        "id": "gSasWE4HvyS-"
      }
    },
    {
      "cell_type": "code",
      "source": [
        "df['Switch to order menu'].value_counts()"
      ],
      "metadata": {
        "colab": {
          "base_uri": "https://localhost:8080/"
        },
        "id": "KR8ObGzrvza-",
        "outputId": "2715d440-795d-4562-a14f-f0cf20e04861"
      },
      "execution_count": null,
      "outputs": [
        {
          "output_type": "execute_result",
          "data": {
            "text/plain": [
              "No    9542\n",
              "Name: Switch to order menu, dtype: int64"
            ]
          },
          "metadata": {},
          "execution_count": 381
        }
      ]
    },
    {
      "cell_type": "code",
      "source": [
        "df['Is delivering now'].value_counts()"
      ],
      "metadata": {
        "colab": {
          "base_uri": "https://localhost:8080/"
        },
        "id": "kO5H3kwSwBE-",
        "outputId": "48713c65-ab29-4731-fd05-55dcc8bc8825"
      },
      "execution_count": null,
      "outputs": [
        {
          "output_type": "execute_result",
          "data": {
            "text/plain": [
              "No     9508\n",
              "Yes      34\n",
              "Name: Is delivering now, dtype: int64"
            ]
          },
          "metadata": {},
          "execution_count": 382
        }
      ]
    },
    {
      "cell_type": "code",
      "source": [
        "df.drop(['Switch to order menu','Is delivering now'],axis=1,inplace=True)"
      ],
      "metadata": {
        "id": "VJ5rSm3-w5YC"
      },
      "execution_count": null,
      "outputs": []
    },
    {
      "cell_type": "code",
      "source": [
        "df.shape"
      ],
      "metadata": {
        "colab": {
          "base_uri": "https://localhost:8080/"
        },
        "id": "exz_FCbdxPfM",
        "outputId": "083f228e-4b05-457b-d78a-cc3fc1d579cc"
      },
      "execution_count": null,
      "outputs": [
        {
          "output_type": "execute_result",
          "data": {
            "text/plain": [
              "(9542, 16)"
            ]
          },
          "metadata": {},
          "execution_count": 384
        }
      ]
    },
    {
      "cell_type": "markdown",
      "source": [
        "```python\n",
        "plt.figure(figsize=(15,15))\n",
        "scatter = sns.scatterplot('Latitude','Longitude',data=df)\n",
        "plt.show()\n",
        "```\n",
        "Use this link and check for latitudes and longitudes: \n",
        "https://kepler.gl/demo"
      ],
      "metadata": {
        "id": "2hk4mkGgK8FX"
      }
    },
    {
      "cell_type": "markdown",
      "source": [
        "### Sample plot for the above thought."
      ],
      "metadata": {
        "id": "UBx1VQ1dM3Kv"
      }
    },
    {
      "cell_type": "markdown",
      "source": [
        "![Image_ll (3).png](data:image/png;base64,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)"
      ],
      "metadata": {
        "id": "6zF_JA0zQZpP"
      }
    },
    {
      "cell_type": "code",
      "source": [
        "df['Rating text'].value_counts()"
      ],
      "metadata": {
        "colab": {
          "base_uri": "https://localhost:8080/"
        },
        "id": "ooqVA6FX-SJr",
        "outputId": "bb13a4a3-515d-468c-ed9b-f188d1b90cb9"
      },
      "execution_count": null,
      "outputs": [
        {
          "output_type": "execute_result",
          "data": {
            "text/plain": [
              "Average      3734\n",
              "Not rated    2148\n",
              "Good         2096\n",
              "Very Good    1078\n",
              "Excellent     300\n",
              "Poor          186\n",
              "Name: Rating text, dtype: int64"
            ]
          },
          "metadata": {},
          "execution_count": 385
        }
      ]
    },
    {
      "cell_type": "markdown",
      "source": [
        "We can also use map function to transform and encode!! "
      ],
      "metadata": {
        "id": "xtYYIANA-g6V"
      }
    },
    {
      "cell_type": "code",
      "source": [
        "df['Rating text'] = df['Rating text'].map({'Average':1,'Not rated':2,'Good':3,'Very Good':4,'Excellent':5,'Poor':6})"
      ],
      "metadata": {
        "id": "EK1Z9YnK-_8N"
      },
      "execution_count": null,
      "outputs": []
    },
    {
      "cell_type": "markdown",
      "source": [
        "## Label Encoder\n",
        "\n",
        "- It encodes different categorical variables to label to sequential numbers for easy processing of the model."
      ],
      "metadata": {
        "id": "bLn87_KM_l1A"
      }
    },
    {
      "cell_type": "code",
      "source": [
        "from sklearn.preprocessing import LabelEncoder\n",
        "lc = LabelEncoder()\n",
        "df['City']=lc.fit_transform(df['City'])\n",
        "df['Currency'] = lc.fit_transform(df['Currency'])\n",
        "df['Country'] = lc.fit_transform(df['Country'])\n",
        "df['Rating color'] = lc.fit_transform(df['Rating color'])"
      ],
      "metadata": {
        "id": "QIXn4qUV_hfG"
      },
      "execution_count": null,
      "outputs": []
    },
    {
      "cell_type": "code",
      "source": [
        "df['Has Online delivery'] = pd.get_dummies(df['Has Online delivery'], drop_first=True)"
      ],
      "metadata": {
        "id": "6k4GtiYU0Yfx"
      },
      "execution_count": null,
      "outputs": []
    },
    {
      "cell_type": "code",
      "source": [
        "df['Has Table booking'] = pd.get_dummies(df['Has Table booking'], drop_first=True)"
      ],
      "metadata": {
        "id": "BHMgYSiG0Yh5"
      },
      "execution_count": null,
      "outputs": []
    },
    {
      "cell_type": "code",
      "source": [
        "df.head()"
      ],
      "metadata": {
        "colab": {
          "base_uri": "https://localhost:8080/",
          "height": 444
        },
        "id": "0QgR3JpV0Yl3",
        "outputId": "b52cc0ca-a834-418d-dd22-70807800c2f4"
      },
      "execution_count": null,
      "outputs": [
        {
          "output_type": "execute_result",
          "data": {
            "text/plain": [
              "   Restaurant ID         Restaurant Name  City  Longitude  Latitude  \\\n",
              "0        6317637        Le Petit Souffle     5 121.027535 14.565443   \n",
              "1        6304287        Izakaya Kikufuji     5 121.014101 14.553708   \n",
              "2        6300002  Heat - Edsa Shangri-La     5 121.056831 14.581404   \n",
              "3        6318506                    Ooma     5 121.056475 14.585318   \n",
              "4        6314302             Sambo Kojin     5 121.057508 14.584450   \n",
              "\n",
              "                           Cuisines  Average Cost for two  Currency  \\\n",
              "0        French, Japanese, Desserts                  1100         0   \n",
              "1                          Japanese                  1200         0   \n",
              "2  Seafood, Asian, Filipino, Indian                  4000         0   \n",
              "3                   Japanese, Sushi                  1500         0   \n",
              "4                  Japanese, Korean                  1500         0   \n",
              "\n",
              "   Has Table booking  Has Online delivery  Price range  Aggregate rating  \\\n",
              "0                  1                    0            3          4.800000   \n",
              "1                  1                    0            3          4.500000   \n",
              "2                  1                    0            4          4.400000   \n",
              "3                  0                    0            4          4.900000   \n",
              "4                  1                    0            4          4.800000   \n",
              "\n",
              "   Rating color  Rating text  Votes  Country  \n",
              "0             0            5    314        6  \n",
              "1             0            5    591        6  \n",
              "2             1            4    270        6  \n",
              "3             0            5    365        6  \n",
              "4             0            5    229        6  "
            ],
            "text/html": [
              "\n",
              "  <div id=\"df-4d094804-a3de-4e10-b57c-1625b3377c87\">\n",
              "    <div class=\"colab-df-container\">\n",
              "      <div>\n",
              "<style scoped>\n",
              "    .dataframe tbody tr th:only-of-type {\n",
              "        vertical-align: middle;\n",
              "    }\n",
              "\n",
              "    .dataframe tbody tr th {\n",
              "        vertical-align: top;\n",
              "    }\n",
              "\n",
              "    .dataframe thead th {\n",
              "        text-align: right;\n",
              "    }\n",
              "</style>\n",
              "<table border=\"1\" class=\"dataframe\">\n",
              "  <thead>\n",
              "    <tr style=\"text-align: right;\">\n",
              "      <th></th>\n",
              "      <th>Restaurant ID</th>\n",
              "      <th>Restaurant Name</th>\n",
              "      <th>City</th>\n",
              "      <th>Longitude</th>\n",
              "      <th>Latitude</th>\n",
              "      <th>Cuisines</th>\n",
              "      <th>Average Cost for two</th>\n",
              "      <th>Currency</th>\n",
              "      <th>Has Table booking</th>\n",
              "      <th>Has Online delivery</th>\n",
              "      <th>Price range</th>\n",
              "      <th>Aggregate rating</th>\n",
              "      <th>Rating color</th>\n",
              "      <th>Rating text</th>\n",
              "      <th>Votes</th>\n",
              "      <th>Country</th>\n",
              "    </tr>\n",
              "  </thead>\n",
              "  <tbody>\n",
              "    <tr>\n",
              "      <th>0</th>\n",
              "      <td>6317637</td>\n",
              "      <td>Le Petit Souffle</td>\n",
              "      <td>5</td>\n",
              "      <td>121.027535</td>\n",
              "      <td>14.565443</td>\n",
              "      <td>French, Japanese, Desserts</td>\n",
              "      <td>1100</td>\n",
              "      <td>0</td>\n",
              "      <td>1</td>\n",
              "      <td>0</td>\n",
              "      <td>3</td>\n",
              "      <td>4.800000</td>\n",
              "      <td>0</td>\n",
              "      <td>5</td>\n",
              "      <td>314</td>\n",
              "      <td>6</td>\n",
              "    </tr>\n",
              "    <tr>\n",
              "      <th>1</th>\n",
              "      <td>6304287</td>\n",
              "      <td>Izakaya Kikufuji</td>\n",
              "      <td>5</td>\n",
              "      <td>121.014101</td>\n",
              "      <td>14.553708</td>\n",
              "      <td>Japanese</td>\n",
              "      <td>1200</td>\n",
              "      <td>0</td>\n",
              "      <td>1</td>\n",
              "      <td>0</td>\n",
              "      <td>3</td>\n",
              "      <td>4.500000</td>\n",
              "      <td>0</td>\n",
              "      <td>5</td>\n",
              "      <td>591</td>\n",
              "      <td>6</td>\n",
              "    </tr>\n",
              "    <tr>\n",
              "      <th>2</th>\n",
              "      <td>6300002</td>\n",
              "      <td>Heat - Edsa Shangri-La</td>\n",
              "      <td>5</td>\n",
              "      <td>121.056831</td>\n",
              "      <td>14.581404</td>\n",
              "      <td>Seafood, Asian, Filipino, Indian</td>\n",
              "      <td>4000</td>\n",
              "      <td>0</td>\n",
              "      <td>1</td>\n",
              "      <td>0</td>\n",
              "      <td>4</td>\n",
              "      <td>4.400000</td>\n",
              "      <td>1</td>\n",
              "      <td>4</td>\n",
              "      <td>270</td>\n",
              "      <td>6</td>\n",
              "    </tr>\n",
              "    <tr>\n",
              "      <th>3</th>\n",
              "      <td>6318506</td>\n",
              "      <td>Ooma</td>\n",
              "      <td>5</td>\n",
              "      <td>121.056475</td>\n",
              "      <td>14.585318</td>\n",
              "      <td>Japanese, Sushi</td>\n",
              "      <td>1500</td>\n",
              "      <td>0</td>\n",
              "      <td>0</td>\n",
              "      <td>0</td>\n",
              "      <td>4</td>\n",
              "      <td>4.900000</td>\n",
              "      <td>0</td>\n",
              "      <td>5</td>\n",
              "      <td>365</td>\n",
              "      <td>6</td>\n",
              "    </tr>\n",
              "    <tr>\n",
              "      <th>4</th>\n",
              "      <td>6314302</td>\n",
              "      <td>Sambo Kojin</td>\n",
              "      <td>5</td>\n",
              "      <td>121.057508</td>\n",
              "      <td>14.584450</td>\n",
              "      <td>Japanese, Korean</td>\n",
              "      <td>1500</td>\n",
              "      <td>0</td>\n",
              "      <td>1</td>\n",
              "      <td>0</td>\n",
              "      <td>4</td>\n",
              "      <td>4.800000</td>\n",
              "      <td>0</td>\n",
              "      <td>5</td>\n",
              "      <td>229</td>\n",
              "      <td>6</td>\n",
              "    </tr>\n",
              "  </tbody>\n",
              "</table>\n",
              "</div>\n",
              "      <button class=\"colab-df-convert\" onclick=\"convertToInteractive('df-4d094804-a3de-4e10-b57c-1625b3377c87')\"\n",
              "              title=\"Convert this dataframe to an interactive table.\"\n",
              "              style=\"display:none;\">\n",
              "        \n",
              "  <svg xmlns=\"http://www.w3.org/2000/svg\" height=\"24px\"viewBox=\"0 0 24 24\"\n",
              "       width=\"24px\">\n",
              "    <path d=\"M0 0h24v24H0V0z\" fill=\"none\"/>\n",
              "    <path d=\"M18.56 5.44l.94 2.06.94-2.06 2.06-.94-2.06-.94-.94-2.06-.94 2.06-2.06.94zm-11 1L8.5 8.5l.94-2.06 2.06-.94-2.06-.94L8.5 2.5l-.94 2.06-2.06.94zm10 10l.94 2.06.94-2.06 2.06-.94-2.06-.94-.94-2.06-.94 2.06-2.06.94z\"/><path d=\"M17.41 7.96l-1.37-1.37c-.4-.4-.92-.59-1.43-.59-.52 0-1.04.2-1.43.59L10.3 9.45l-7.72 7.72c-.78.78-.78 2.05 0 2.83L4 21.41c.39.39.9.59 1.41.59.51 0 1.02-.2 1.41-.59l7.78-7.78 2.81-2.81c.8-.78.8-2.07 0-2.86zM5.41 20L4 18.59l7.72-7.72 1.47 1.35L5.41 20z\"/>\n",
              "  </svg>\n",
              "      </button>\n",
              "      \n",
              "  <style>\n",
              "    .colab-df-container {\n",
              "      display:flex;\n",
              "      flex-wrap:wrap;\n",
              "      gap: 12px;\n",
              "    }\n",
              "\n",
              "    .colab-df-convert {\n",
              "      background-color: #E8F0FE;\n",
              "      border: none;\n",
              "      border-radius: 50%;\n",
              "      cursor: pointer;\n",
              "      display: none;\n",
              "      fill: #1967D2;\n",
              "      height: 32px;\n",
              "      padding: 0 0 0 0;\n",
              "      width: 32px;\n",
              "    }\n",
              "\n",
              "    .colab-df-convert:hover {\n",
              "      background-color: #E2EBFA;\n",
              "      box-shadow: 0px 1px 2px rgba(60, 64, 67, 0.3), 0px 1px 3px 1px rgba(60, 64, 67, 0.15);\n",
              "      fill: #174EA6;\n",
              "    }\n",
              "\n",
              "    [theme=dark] .colab-df-convert {\n",
              "      background-color: #3B4455;\n",
              "      fill: #D2E3FC;\n",
              "    }\n",
              "\n",
              "    [theme=dark] .colab-df-convert:hover {\n",
              "      background-color: #434B5C;\n",
              "      box-shadow: 0px 1px 3px 1px rgba(0, 0, 0, 0.15);\n",
              "      filter: drop-shadow(0px 1px 2px rgba(0, 0, 0, 0.3));\n",
              "      fill: #FFFFFF;\n",
              "    }\n",
              "  </style>\n",
              "\n",
              "      <script>\n",
              "        const buttonEl =\n",
              "          document.querySelector('#df-4d094804-a3de-4e10-b57c-1625b3377c87 button.colab-df-convert');\n",
              "        buttonEl.style.display =\n",
              "          google.colab.kernel.accessAllowed ? 'block' : 'none';\n",
              "\n",
              "        async function convertToInteractive(key) {\n",
              "          const element = document.querySelector('#df-4d094804-a3de-4e10-b57c-1625b3377c87');\n",
              "          const dataTable =\n",
              "            await google.colab.kernel.invokeFunction('convertToInteractive',\n",
              "                                                     [key], {});\n",
              "          if (!dataTable) return;\n",
              "\n",
              "          const docLinkHtml = 'Like what you see? Visit the ' +\n",
              "            '<a target=\"_blank\" href=https://colab.research.google.com/notebooks/data_table.ipynb>data table notebook</a>'\n",
              "            + ' to learn more about interactive tables.';\n",
              "          element.innerHTML = '';\n",
              "          dataTable['output_type'] = 'display_data';\n",
              "          await google.colab.output.renderOutput(dataTable, element);\n",
              "          const docLink = document.createElement('div');\n",
              "          docLink.innerHTML = docLinkHtml;\n",
              "          element.appendChild(docLink);\n",
              "        }\n",
              "      </script>\n",
              "    </div>\n",
              "  </div>\n",
              "  "
            ]
          },
          "metadata": {},
          "execution_count": 390
        }
      ]
    },
    {
      "cell_type": "code",
      "source": [
        "df.drop(['Restaurant ID','Restaurant Name'],axis=1,inplace=True)"
      ],
      "metadata": {
        "id": "E1UErG3l8sjz"
      },
      "execution_count": null,
      "outputs": []
    },
    {
      "cell_type": "markdown",
      "source": [
        "There are no pretty outliers here!!! \n",
        "We now almost converted all the data ready to model!! Its time to scale the data!!"
      ],
      "metadata": {
        "id": "mpuUmF8M9wIn"
      }
    },
    {
      "cell_type": "markdown",
      "source": [
        "# Feature Scaling\n",
        "\n",
        "- Its the process of improving the quality of the number in the data to match the scale for the model to operate easily. \n",
        "- We use techniques like MinMaxScaler, StandardScaler, RobustScaler to scale the data.\n",
        "- Range of Standardization and Normalization is [-1,1] and [0,1] respectively."
      ],
      "metadata": {
        "id": "daRPgXty1X9w"
      }
    },
    {
      "cell_type": "markdown",
      "source": [
        "## 1. Standard Scaler\n",
        "\n",
        "The process of scaling the data using standard deviation is called Standardization. It groups the data to the origin reducing the variance.\n",
        "\n",
        "$ X(i)=(X(i)-mean(X))/std(X) $"
      ],
      "metadata": {
        "id": "773hEhPHAioj"
      }
    },
    {
      "cell_type": "code",
      "source": [
        "from sklearn.preprocessing import StandardScaler\n",
        "sc = StandardScaler()\n",
        "df['Average Cost for two'] = sc.fit_transform(df[['Average Cost for two']])\n",
        "df.head()"
      ],
      "metadata": {
        "id": "l_PmzLmL1aZM"
      },
      "execution_count": null,
      "outputs": []
    },
    {
      "cell_type": "markdown",
      "source": [
        "## MinMaxScaler\n",
        "\n",
        "The process of scaling down with the range inclusion is Normalization. \n",
        "Difference between Normalization and Standardization is that In Normalization, the difference or the range or the variance change will no be there. \n",
        "\n",
        "\n",
        "$ X(i)=(X(i)-mean(X))/(max(X)-min(X))$\n",
        "\n"
      ],
      "metadata": {
        "id": "pSNur7T6CJb3"
      }
    },
    {
      "cell_type": "code",
      "source": [
        "from sklearn.preprocessing import MinMaxScaler\n",
        "mm = MinMaxScaler()\n",
        "df['Votes'] = mm.fit_transform(df[['Votes']])\n",
        "df.head()"
      ],
      "metadata": {
        "id": "mmyTrez_1ab4"
      },
      "execution_count": null,
      "outputs": []
    },
    {
      "cell_type": "markdown",
      "source": [
        "The data is cleaned, transformed, encoded and scaled and ready for the model training. <br>\n"
      ],
      "metadata": {
        "id": "RPCz5cgsF00Q"
      }
    }
  ]
}
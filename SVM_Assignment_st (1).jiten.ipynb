{
  "cells": [
    {
      "cell_type": "markdown",
      "metadata": {
        "id": "5ZcIZN3op0h_"
      },
      "source": [
        "### <span style = 'color:green'> Create a machine learning model that can predict the pulser star </span>\n",
        "\n",
        "\n",
        "**Support Vector Machines(SVM)**\n",
        "- Support Vector Machines (SVMs in short) are machine learning algorithms that are used for classification and regression purposes. SVMs are one of the powerful machine learning algorithms for classification, regression and outlier detection purposes. An SVM classifier builds a model that assigns new data points to one of the given categories. Thus, it can be viewed as a non-probabilistic binary linear classifier.\n",
        "\n",
        "**About the dataset**\n",
        "- Pulsars are a rare type of Neutron star that produce radio emission detectable here on Earth. They are of considerable scientific interest as probes of space-time, the inter-stellar medium, and states of matter. Machine learning tools are now being used to automatically label pulsar candidates to facilitate rapid analysis. Classification systems in particular are being widely adopted,which treat the candidate data sets as binary classification problems.\n",
        "\n",
        "**Expected output**\n",
        "- **Missing values should be treated**\n",
        "- **Perform Standerdisation and handle outliers**\n",
        "- **perform Support Vector Mchines and tune the model to increase the efficiency of the model**\n",
        "\n",
        "- For dataset please click here <a href=\"https://drive.google.com/file/d/19d2ocdl8d5rrE8Wc8nkBTFu_QrgtDt3q/view?usp=sharing\n",
        "\" title=\"Google Drive\">Click here</a>\n",
        "\n",
        "\n"
      ]
    },
    {
      "cell_type": "code",
      "execution_count": 74,
      "metadata": {
        "id": "plu2vCTVp0iD"
      },
      "outputs": [
        {
          "name": "stdout",
          "output_type": "stream",
          "text": [
            "<class 'pandas.core.frame.DataFrame'>\n",
            "RangeIndex: 17898 entries, 0 to 17897\n",
            "Data columns (total 9 columns):\n",
            " #   Column                                         Non-Null Count  Dtype  \n",
            "---  ------                                         --------------  -----  \n",
            " 0    Mean of the integrated profile                17898 non-null  float64\n",
            " 1    Standard deviation of the integrated profile  17898 non-null  float64\n",
            " 2    Excess kurtosis of the integrated profile     15396 non-null  float64\n",
            " 3    Skewness of the integrated profile            17898 non-null  float64\n",
            " 4    Mean of the DM-SNR curve                      17898 non-null  float64\n",
            " 5    Standard deviation of the DM-SNR curve        16196 non-null  float64\n",
            " 6    Excess kurtosis of the DM-SNR curve           17898 non-null  float64\n",
            " 7    Skewness of the DM-SNR curve                  17029 non-null  float64\n",
            " 8   target_class                                   12528 non-null  float64\n",
            "dtypes: float64(9)\n",
            "memory usage: 1.2 MB\n"
          ]
        },
        {
          "data": {
            "text/plain": [
              "(None,\n",
              "     Mean of the integrated profile  \\\n",
              " 0                       121.156250   \n",
              " 1                        76.968750   \n",
              " 2                       130.585938   \n",
              " 3                       156.398438   \n",
              " 4                        84.804688   \n",
              " \n",
              "     Standard deviation of the integrated profile  \\\n",
              " 0                                      48.372971   \n",
              " 1                                      36.175557   \n",
              " 2                                      53.229534   \n",
              " 3                                      48.865942   \n",
              " 4                                      36.117659   \n",
              " \n",
              "     Excess kurtosis of the integrated profile  \\\n",
              " 0                                    0.375485   \n",
              " 1                                    0.712898   \n",
              " 2                                    0.133408   \n",
              " 3                                   -0.215989   \n",
              " 4                                    0.825013   \n",
              " \n",
              "     Skewness of the integrated profile   Mean of the DM-SNR curve  \\\n",
              " 0                            -0.013165                   3.168896   \n",
              " 1                             3.388719                   2.399666   \n",
              " 2                            -0.297242                   2.743311   \n",
              " 3                            -0.171294                  17.471572   \n",
              " 4                             3.274125                   2.790134   \n",
              " \n",
              "     Standard deviation of the DM-SNR curve  \\\n",
              " 0                                18.399367   \n",
              " 1                                17.570997   \n",
              " 2                                22.362553   \n",
              " 3                                      NaN   \n",
              " 4                                20.618009   \n",
              " \n",
              "     Excess kurtosis of the DM-SNR curve   Skewness of the DM-SNR curve  \\\n",
              " 0                              7.449874                      65.159298   \n",
              " 1                              9.414652                     102.722975   \n",
              " 2                              8.508364                      74.031324   \n",
              " 3                              2.958066                       7.197842   \n",
              " 4                              8.405008                      76.291128   \n",
              " \n",
              "    target_class  \n",
              " 0           0.0  \n",
              " 1           0.0  \n",
              " 2           0.0  \n",
              " 3           0.0  \n",
              " 4           0.0  ,\n",
              "         Mean of the integrated profile  \\\n",
              " count                     17898.000000   \n",
              " mean                        111.079968   \n",
              " std                          25.652935   \n",
              " min                           5.812500   \n",
              " 25%                         100.929688   \n",
              " 50%                         115.078125   \n",
              " 75%                         127.085938   \n",
              " max                         192.617188   \n",
              " \n",
              "         Standard deviation of the integrated profile  \\\n",
              " count                                   17898.000000   \n",
              " mean                                       46.549532   \n",
              " std                                         6.843189   \n",
              " min                                        24.772042   \n",
              " 25%                                        42.376018   \n",
              " 50%                                        46.947479   \n",
              " 75%                                        51.023202   \n",
              " max                                        98.778911   \n",
              " \n",
              "         Excess kurtosis of the integrated profile  \\\n",
              " count                                15396.000000   \n",
              " mean                                     0.480081   \n",
              " std                                      1.068333   \n",
              " min                                     -1.876011   \n",
              " 25%                                      0.026670   \n",
              " 50%                                      0.224414   \n",
              " 75%                                      0.473488   \n",
              " max                                      8.069522   \n",
              " \n",
              "         Skewness of the integrated profile   Mean of the DM-SNR curve  \\\n",
              " count                         17898.000000               17898.000000   \n",
              " mean                              1.770279                  12.614400   \n",
              " std                               6.167913                  29.472897   \n",
              " min                              -1.791886                   0.213211   \n",
              " 25%                              -0.188572                   1.923077   \n",
              " 50%                               0.198710                   2.801839   \n",
              " 75%                               0.927783                   5.464256   \n",
              " max                              68.101622                 223.392141   \n",
              " \n",
              "         Standard deviation of the DM-SNR curve  \\\n",
              " count                             16196.000000   \n",
              " mean                                 26.373476   \n",
              " std                                  19.542821   \n",
              " min                                   7.370432   \n",
              " 25%                                  14.443905   \n",
              " 50%                                  18.457026   \n",
              " 75%                                  28.444832   \n",
              " max                                 110.642211   \n",
              " \n",
              "         Excess kurtosis of the DM-SNR curve   Skewness of the DM-SNR curve  \\\n",
              " count                          17898.000000                   17029.000000   \n",
              " mean                               8.303556                     104.726073   \n",
              " std                                4.506092                     106.612375   \n",
              " min                               -3.139270                      -1.976976   \n",
              " 25%                                5.781506                      34.776492   \n",
              " 50%                                8.433515                      82.768138   \n",
              " 75%                               10.702959                     139.163008   \n",
              " max                               34.539844                    1191.000837   \n",
              " \n",
              "        target_class  \n",
              " count  12528.000000  \n",
              " mean       0.092034  \n",
              " std        0.289085  \n",
              " min        0.000000  \n",
              " 25%        0.000000  \n",
              " 50%        0.000000  \n",
              " 75%        0.000000  \n",
              " max        1.000000  )"
            ]
          },
          "execution_count": 74,
          "metadata": {},
          "output_type": "execute_result"
        }
      ],
      "source": [
        "import pandas as pd\n",
        "\n",
        "# Load the dataset\n",
        "file_path = 'c:\\\\Users\\\\jiten\\\\Downloads\\\\SVM.csv'\n",
        "data = pd.read_csv(file_path)\n",
        "\n",
        "# Display the first few rows and summary statistics of the dataset\n",
        "data_info = data.info()\n",
        "first_rows = data.head()\n",
        "summary_stats = data.describe()\n",
        "\n",
        "data_info, first_rows, summary_stats\n"
      ]
    },
    {
      "cell_type": "code",
      "execution_count": 75,
      "metadata": {},
      "outputs": [],
      "source": [
        "import pandas as pd\n",
        "\n",
        "data = pd.read_csv('c:\\\\Users\\\\jiten\\Downloads\\\\SVM.csv')\n"
      ]
    },
    {
      "cell_type": "code",
      "execution_count": 76,
      "metadata": {},
      "outputs": [
        {
          "name": "stdout",
          "output_type": "stream",
          "text": [
            " Mean of the integrated profile                     0\n",
            " Standard deviation of the integrated profile       0\n",
            " Excess kurtosis of the integrated profile       2502\n",
            " Skewness of the integrated profile                 0\n",
            " Mean of the DM-SNR curve                           0\n",
            " Standard deviation of the DM-SNR curve          1702\n",
            " Excess kurtosis of the DM-SNR curve                0\n",
            " Skewness of the DM-SNR curve                     869\n",
            "target_class                                     5370\n",
            "dtype: int64\n"
          ]
        }
      ],
      "source": [
        "missing_values = data.isnull().sum()\n",
        "print(missing_values)\n"
      ]
    },
    {
      "cell_type": "code",
      "execution_count": 77,
      "metadata": {},
      "outputs": [],
      "source": [
        "data_cleaned = data.dropna()\n"
      ]
    },
    {
      "cell_type": "code",
      "execution_count": 78,
      "metadata": {},
      "outputs": [],
      "source": [
        "data_filled = data.fillna(data.mean())  # Fills with mean\n",
        "data_filled = data.fillna(data.median())  # Fills with median\n",
        "data_filled = data.fillna(0)  # Fills with 0\n"
      ]
    },
    {
      "cell_type": "code",
      "execution_count": 79,
      "metadata": {},
      "outputs": [],
      "source": [
        "data_filled = data.fillna(method='ffill')  # Forward fill\n",
        "data_filled = data.fillna(method='bfill')  # Backward fill\n"
      ]
    },
    {
      "cell_type": "code",
      "execution_count": 80,
      "metadata": {},
      "outputs": [
        {
          "name": "stdout",
          "output_type": "stream",
          "text": [
            " Mean of the integrated profile                     0\n",
            " Standard deviation of the integrated profile       0\n",
            " Excess kurtosis of the integrated profile          0\n",
            " Skewness of the integrated profile                 0\n",
            " Mean of the DM-SNR curve                           0\n",
            " Standard deviation of the DM-SNR curve             0\n",
            " Excess kurtosis of the DM-SNR curve                0\n",
            " Skewness of the DM-SNR curve                       0\n",
            "target_class                                     5370\n",
            "dtype: int64\n"
          ]
        }
      ],
      "source": [
        "print(data_filled.isnull().sum())\n"
      ]
    },
    {
      "cell_type": "code",
      "execution_count": 81,
      "metadata": {},
      "outputs": [],
      "source": [
        "import pandas as pd\n",
        "from sklearn.model_selection import train_test_split, GridSearchCV\n",
        "from sklearn.svm import SVC\n",
        "from sklearn.metrics import classification_report, accuracy_score\n"
      ]
    },
    {
      "cell_type": "code",
      "execution_count": 82,
      "metadata": {},
      "outputs": [
        {
          "name": "stdout",
          "output_type": "stream",
          "text": [
            "Index([' Mean of the integrated profile',\n",
            "       ' Standard deviation of the integrated profile',\n",
            "       ' Excess kurtosis of the integrated profile',\n",
            "       ' Skewness of the integrated profile', ' Mean of the DM-SNR curve',\n",
            "       ' Standard deviation of the DM-SNR curve',\n",
            "       ' Excess kurtosis of the DM-SNR curve', ' Skewness of the DM-SNR curve',\n",
            "       'target_class'],\n",
            "      dtype='object')\n"
          ]
        }
      ],
      "source": [
        "print(data.columns)\n"
      ]
    },
    {
      "cell_type": "code",
      "execution_count": 83,
      "metadata": {},
      "outputs": [
        {
          "name": "stdout",
          "output_type": "stream",
          "text": [
            "Index([' Mean of the integrated profile',\n",
            "       ' Standard deviation of the integrated profile',\n",
            "       ' Excess kurtosis of the integrated profile',\n",
            "       ' Skewness of the integrated profile', ' Mean of the DM-SNR curve',\n",
            "       ' Standard deviation of the DM-SNR curve',\n",
            "       ' Excess kurtosis of the DM-SNR curve', ' Skewness of the DM-SNR curve',\n",
            "       'target_class'],\n",
            "      dtype='object')\n"
          ]
        }
      ],
      "source": [
        "data = pd.read_csv('c:\\\\Users\\\\jiten\\\\Downloads\\\\SVM.csv')\n",
        "print(data.columns)\n"
      ]
    },
    {
      "cell_type": "code",
      "execution_count": 84,
      "metadata": {},
      "outputs": [
        {
          "ename": "KeyError",
          "evalue": "\"['target'] not found in axis\"",
          "output_type": "error",
          "traceback": [
            "\u001b[1;31m---------------------------------------------------------------------------\u001b[0m",
            "\u001b[1;31mKeyError\u001b[0m                                  Traceback (most recent call last)",
            "Cell \u001b[1;32mIn[84], line 4\u001b[0m\n\u001b[0;32m      1\u001b[0m data \u001b[38;5;241m=\u001b[39m pd\u001b[38;5;241m.\u001b[39mread_csv(\u001b[38;5;124m'\u001b[39m\u001b[38;5;124mc:\u001b[39m\u001b[38;5;130;01m\\\\\u001b[39;00m\u001b[38;5;124mUsers\u001b[39m\u001b[38;5;130;01m\\\\\u001b[39;00m\u001b[38;5;124mjiten\u001b[39m\u001b[38;5;130;01m\\\\\u001b[39;00m\u001b[38;5;124mDownloads\u001b[39m\u001b[38;5;130;01m\\\\\u001b[39;00m\u001b[38;5;124mSVM.csv\u001b[39m\u001b[38;5;124m'\u001b[39m)\n\u001b[0;32m      3\u001b[0m \u001b[38;5;66;03m# Assume the target variable is named 'target' and the rest are features\u001b[39;00m\n\u001b[1;32m----> 4\u001b[0m X \u001b[38;5;241m=\u001b[39m data\u001b[38;5;241m.\u001b[39mdrop(\u001b[38;5;124m'\u001b[39m\u001b[38;5;124mtarget\u001b[39m\u001b[38;5;124m'\u001b[39m, axis\u001b[38;5;241m=\u001b[39m\u001b[38;5;241m1\u001b[39m)\n\u001b[0;32m      5\u001b[0m y \u001b[38;5;241m=\u001b[39m data[\u001b[38;5;124m'\u001b[39m\u001b[38;5;124mtarget\u001b[39m\u001b[38;5;124m'\u001b[39m]\n",
            "File \u001b[1;32mc:\\ProgramData\\anaconda3\\Lib\\site-packages\\pandas\\core\\frame.py:5258\u001b[0m, in \u001b[0;36mDataFrame.drop\u001b[1;34m(self, labels, axis, index, columns, level, inplace, errors)\u001b[0m\n\u001b[0;32m   5110\u001b[0m \u001b[38;5;28;01mdef\u001b[39;00m \u001b[38;5;21mdrop\u001b[39m(\n\u001b[0;32m   5111\u001b[0m     \u001b[38;5;28mself\u001b[39m,\n\u001b[0;32m   5112\u001b[0m     labels: IndexLabel \u001b[38;5;241m=\u001b[39m \u001b[38;5;28;01mNone\u001b[39;00m,\n\u001b[1;32m   (...)\u001b[0m\n\u001b[0;32m   5119\u001b[0m     errors: IgnoreRaise \u001b[38;5;241m=\u001b[39m \u001b[38;5;124m\"\u001b[39m\u001b[38;5;124mraise\u001b[39m\u001b[38;5;124m\"\u001b[39m,\n\u001b[0;32m   5120\u001b[0m ) \u001b[38;5;241m-\u001b[39m\u001b[38;5;241m>\u001b[39m DataFrame \u001b[38;5;241m|\u001b[39m \u001b[38;5;28;01mNone\u001b[39;00m:\n\u001b[0;32m   5121\u001b[0m \u001b[38;5;250m    \u001b[39m\u001b[38;5;124;03m\"\"\"\u001b[39;00m\n\u001b[0;32m   5122\u001b[0m \u001b[38;5;124;03m    Drop specified labels from rows or columns.\u001b[39;00m\n\u001b[0;32m   5123\u001b[0m \n\u001b[1;32m   (...)\u001b[0m\n\u001b[0;32m   5256\u001b[0m \u001b[38;5;124;03m            weight  1.0     0.8\u001b[39;00m\n\u001b[0;32m   5257\u001b[0m \u001b[38;5;124;03m    \"\"\"\u001b[39;00m\n\u001b[1;32m-> 5258\u001b[0m     \u001b[38;5;28;01mreturn\u001b[39;00m \u001b[38;5;28msuper\u001b[39m()\u001b[38;5;241m.\u001b[39mdrop(\n\u001b[0;32m   5259\u001b[0m         labels\u001b[38;5;241m=\u001b[39mlabels,\n\u001b[0;32m   5260\u001b[0m         axis\u001b[38;5;241m=\u001b[39maxis,\n\u001b[0;32m   5261\u001b[0m         index\u001b[38;5;241m=\u001b[39mindex,\n\u001b[0;32m   5262\u001b[0m         columns\u001b[38;5;241m=\u001b[39mcolumns,\n\u001b[0;32m   5263\u001b[0m         level\u001b[38;5;241m=\u001b[39mlevel,\n\u001b[0;32m   5264\u001b[0m         inplace\u001b[38;5;241m=\u001b[39minplace,\n\u001b[0;32m   5265\u001b[0m         errors\u001b[38;5;241m=\u001b[39merrors,\n\u001b[0;32m   5266\u001b[0m     )\n",
            "File \u001b[1;32mc:\\ProgramData\\anaconda3\\Lib\\site-packages\\pandas\\core\\generic.py:4549\u001b[0m, in \u001b[0;36mNDFrame.drop\u001b[1;34m(self, labels, axis, index, columns, level, inplace, errors)\u001b[0m\n\u001b[0;32m   4547\u001b[0m \u001b[38;5;28;01mfor\u001b[39;00m axis, labels \u001b[38;5;129;01min\u001b[39;00m axes\u001b[38;5;241m.\u001b[39mitems():\n\u001b[0;32m   4548\u001b[0m     \u001b[38;5;28;01mif\u001b[39;00m labels \u001b[38;5;129;01mis\u001b[39;00m \u001b[38;5;129;01mnot\u001b[39;00m \u001b[38;5;28;01mNone\u001b[39;00m:\n\u001b[1;32m-> 4549\u001b[0m         obj \u001b[38;5;241m=\u001b[39m obj\u001b[38;5;241m.\u001b[39m_drop_axis(labels, axis, level\u001b[38;5;241m=\u001b[39mlevel, errors\u001b[38;5;241m=\u001b[39merrors)\n\u001b[0;32m   4551\u001b[0m \u001b[38;5;28;01mif\u001b[39;00m inplace:\n\u001b[0;32m   4552\u001b[0m     \u001b[38;5;28mself\u001b[39m\u001b[38;5;241m.\u001b[39m_update_inplace(obj)\n",
            "File \u001b[1;32mc:\\ProgramData\\anaconda3\\Lib\\site-packages\\pandas\\core\\generic.py:4591\u001b[0m, in \u001b[0;36mNDFrame._drop_axis\u001b[1;34m(self, labels, axis, level, errors, only_slice)\u001b[0m\n\u001b[0;32m   4589\u001b[0m         new_axis \u001b[38;5;241m=\u001b[39m axis\u001b[38;5;241m.\u001b[39mdrop(labels, level\u001b[38;5;241m=\u001b[39mlevel, errors\u001b[38;5;241m=\u001b[39merrors)\n\u001b[0;32m   4590\u001b[0m     \u001b[38;5;28;01melse\u001b[39;00m:\n\u001b[1;32m-> 4591\u001b[0m         new_axis \u001b[38;5;241m=\u001b[39m axis\u001b[38;5;241m.\u001b[39mdrop(labels, errors\u001b[38;5;241m=\u001b[39merrors)\n\u001b[0;32m   4592\u001b[0m     indexer \u001b[38;5;241m=\u001b[39m axis\u001b[38;5;241m.\u001b[39mget_indexer(new_axis)\n\u001b[0;32m   4594\u001b[0m \u001b[38;5;66;03m# Case for non-unique axis\u001b[39;00m\n\u001b[0;32m   4595\u001b[0m \u001b[38;5;28;01melse\u001b[39;00m:\n",
            "File \u001b[1;32mc:\\ProgramData\\anaconda3\\Lib\\site-packages\\pandas\\core\\indexes\\base.py:6699\u001b[0m, in \u001b[0;36mIndex.drop\u001b[1;34m(self, labels, errors)\u001b[0m\n\u001b[0;32m   6697\u001b[0m \u001b[38;5;28;01mif\u001b[39;00m mask\u001b[38;5;241m.\u001b[39many():\n\u001b[0;32m   6698\u001b[0m     \u001b[38;5;28;01mif\u001b[39;00m errors \u001b[38;5;241m!=\u001b[39m \u001b[38;5;124m\"\u001b[39m\u001b[38;5;124mignore\u001b[39m\u001b[38;5;124m\"\u001b[39m:\n\u001b[1;32m-> 6699\u001b[0m         \u001b[38;5;28;01mraise\u001b[39;00m \u001b[38;5;167;01mKeyError\u001b[39;00m(\u001b[38;5;124mf\u001b[39m\u001b[38;5;124m\"\u001b[39m\u001b[38;5;132;01m{\u001b[39;00m\u001b[38;5;28mlist\u001b[39m(labels[mask])\u001b[38;5;132;01m}\u001b[39;00m\u001b[38;5;124m not found in axis\u001b[39m\u001b[38;5;124m\"\u001b[39m)\n\u001b[0;32m   6700\u001b[0m     indexer \u001b[38;5;241m=\u001b[39m indexer[\u001b[38;5;241m~\u001b[39mmask]\n\u001b[0;32m   6701\u001b[0m \u001b[38;5;28;01mreturn\u001b[39;00m \u001b[38;5;28mself\u001b[39m\u001b[38;5;241m.\u001b[39mdelete(indexer)\n",
            "\u001b[1;31mKeyError\u001b[0m: \"['target'] not found in axis\""
          ]
        }
      ],
      "source": [
        "data = pd.read_csv('c:\\\\Users\\\\jiten\\\\Downloads\\\\SVM.csv')\n",
        "\n",
        "# Assume the target variable is named 'target' and the rest are features\n",
        "X = data.drop('target', axis=1)\n",
        "y = data['target']\n"
      ]
    }
  ],
  "metadata": {
    "colab": {
      "provenance": []
    },
    "kernelspec": {
      "display_name": "Python 3",
      "language": "python",
      "name": "python3"
    },
    "language_info": {
      "codemirror_mode": {
        "name": "ipython",
        "version": 3
      },
      "file_extension": ".py",
      "mimetype": "text/x-python",
      "name": "python",
      "nbconvert_exporter": "python",
      "pygments_lexer": "ipython3",
      "version": "3.11.5"
    }
  },
  "nbformat": 4,
  "nbformat_minor": 0
}
